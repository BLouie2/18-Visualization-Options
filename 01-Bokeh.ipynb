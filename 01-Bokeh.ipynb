{
 "cells": [
  {
   "cell_type": "markdown",
   "metadata": {},
   "source": [
    "# Extending Matplotlib\n",
    "![](images/bokeh.png)\n",
    "\n",
    "\n",
    "There are a number of newer libraries that have attempted to extend Python's plotting capabilities.  We will look at `bokeh`, which I think is an easy to use interface that is something similar to d3.js, but in my opinion much less verbose."
   ]
  },
  {
   "cell_type": "code",
   "execution_count": 1,
   "metadata": {},
   "outputs": [
    {
     "name": "stdout",
     "output_type": "stream",
     "text": [
      "Requirement already satisfied: bokeh in /Users/brianlouie/anaconda3/lib/python3.6/site-packages (0.12.16)\n",
      "Requirement already satisfied: six>=1.5.2 in /Users/brianlouie/anaconda3/lib/python3.6/site-packages (from bokeh) (1.11.0)\n",
      "Requirement already satisfied: PyYAML>=3.10 in /Users/brianlouie/anaconda3/lib/python3.6/site-packages (from bokeh) (3.12)\n",
      "Requirement already satisfied: python-dateutil>=2.1 in /Users/brianlouie/anaconda3/lib/python3.6/site-packages (from bokeh) (2.7.3)\n",
      "Requirement already satisfied: Jinja2>=2.7 in /Users/brianlouie/anaconda3/lib/python3.6/site-packages (from bokeh) (2.10)\n",
      "Requirement already satisfied: numpy>=1.7.1 in /Users/brianlouie/anaconda3/lib/python3.6/site-packages (from bokeh) (1.14.3)\n",
      "Requirement already satisfied: packaging>=16.8 in /Users/brianlouie/anaconda3/lib/python3.6/site-packages (from bokeh) (17.1)\n",
      "Requirement already satisfied: tornado>=4.3 in /Users/brianlouie/anaconda3/lib/python3.6/site-packages (from bokeh) (5.0.2)\n",
      "Requirement already satisfied: MarkupSafe>=0.23 in /Users/brianlouie/anaconda3/lib/python3.6/site-packages (from Jinja2>=2.7->bokeh) (1.0)\n",
      "Requirement already satisfied: pyparsing>=2.0.2 in /Users/brianlouie/anaconda3/lib/python3.6/site-packages (from packaging>=16.8->bokeh) (2.2.0)\n",
      "Requirement already satisfied: packaging in /Users/brianlouie/anaconda3/lib/python3.6/site-packages (17.1)\n",
      "Requirement already satisfied: pyparsing>=2.0.2 in /Users/brianlouie/anaconda3/lib/python3.6/site-packages (from packaging) (2.2.0)\n",
      "Requirement already satisfied: six in /Users/brianlouie/anaconda3/lib/python3.6/site-packages (from packaging) (1.11.0)\n",
      "Requirement already satisfied: pyyaml in /Users/brianlouie/anaconda3/lib/python3.6/site-packages (3.12)\n",
      "Collecting yaml\n",
      "Requirement already satisfied: pycosat in /Users/brianlouie/anaconda3/lib/python3.6/site-packages (0.6.3)\n"
     ]
    },
    {
     "name": "stderr",
     "output_type": "stream",
     "text": [
      "  Could not find a version that satisfies the requirement yaml (from versions: )\n",
      "No matching distribution found for yaml\n"
     ]
    }
   ],
   "source": [
    "%%bash\n",
    "pip install bokeh\n",
    "pip install packaging\n",
    "pip install pyyaml\n",
    "pip install yaml\n",
    "pip install pycosat"
   ]
  },
  {
   "cell_type": "code",
   "execution_count": 2,
   "metadata": {},
   "outputs": [],
   "source": [
    "from bokeh.plotting import figure\n",
    "from bokeh.io import output_notebook, show\n",
    "import pandas as pd"
   ]
  },
  {
   "cell_type": "code",
   "execution_count": 3,
   "metadata": {},
   "outputs": [
    {
     "data": {
      "text/html": [
       "\n",
       "    <div class=\"bk-root\">\n",
       "        <a href=\"https://bokeh.pydata.org\" target=\"_blank\" class=\"bk-logo bk-logo-small bk-logo-notebook\"></a>\n",
       "        <span id=\"92994f35-812b-42ad-982c-b8047b9baf0d\">Loading BokehJS ...</span>\n",
       "    </div>"
      ]
     },
     "metadata": {},
     "output_type": "display_data"
    },
    {
     "data": {
      "application/javascript": [
       "\n",
       "(function(root) {\n",
       "  function now() {\n",
       "    return new Date();\n",
       "  }\n",
       "\n",
       "  var force = true;\n",
       "\n",
       "  if (typeof (root._bokeh_onload_callbacks) === \"undefined\" || force === true) {\n",
       "    root._bokeh_onload_callbacks = [];\n",
       "    root._bokeh_is_loading = undefined;\n",
       "  }\n",
       "\n",
       "  var JS_MIME_TYPE = 'application/javascript';\n",
       "  var HTML_MIME_TYPE = 'text/html';\n",
       "  var EXEC_MIME_TYPE = 'application/vnd.bokehjs_exec.v0+json';\n",
       "  var CLASS_NAME = 'output_bokeh rendered_html';\n",
       "\n",
       "  /**\n",
       "   * Render data to the DOM node\n",
       "   */\n",
       "  function render(props, node) {\n",
       "    var script = document.createElement(\"script\");\n",
       "    node.appendChild(script);\n",
       "  }\n",
       "\n",
       "  /**\n",
       "   * Handle when an output is cleared or removed\n",
       "   */\n",
       "  function handleClearOutput(event, handle) {\n",
       "    var cell = handle.cell;\n",
       "\n",
       "    var id = cell.output_area._bokeh_element_id;\n",
       "    var server_id = cell.output_area._bokeh_server_id;\n",
       "    // Clean up Bokeh references\n",
       "    if (id !== undefined) {\n",
       "      Bokeh.index[id].model.document.clear();\n",
       "      delete Bokeh.index[id];\n",
       "    }\n",
       "\n",
       "    if (server_id !== undefined) {\n",
       "      // Clean up Bokeh references\n",
       "      var cmd = \"from bokeh.io.state import curstate; print(curstate().uuid_to_server['\" + server_id + \"'].get_sessions()[0].document.roots[0]._id)\";\n",
       "      cell.notebook.kernel.execute(cmd, {\n",
       "        iopub: {\n",
       "          output: function(msg) {\n",
       "            var element_id = msg.content.text.trim();\n",
       "            Bokeh.index[element_id].model.document.clear();\n",
       "            delete Bokeh.index[element_id];\n",
       "          }\n",
       "        }\n",
       "      });\n",
       "      // Destroy server and session\n",
       "      var cmd = \"import bokeh.io.notebook as ion; ion.destroy_server('\" + server_id + \"')\";\n",
       "      cell.notebook.kernel.execute(cmd);\n",
       "    }\n",
       "  }\n",
       "\n",
       "  /**\n",
       "   * Handle when a new output is added\n",
       "   */\n",
       "  function handleAddOutput(event, handle) {\n",
       "    var output_area = handle.output_area;\n",
       "    var output = handle.output;\n",
       "\n",
       "    // limit handleAddOutput to display_data with EXEC_MIME_TYPE content only\n",
       "    if ((output.output_type != \"display_data\") || (!output.data.hasOwnProperty(EXEC_MIME_TYPE))) {\n",
       "      return\n",
       "    }\n",
       "\n",
       "    var toinsert = output_area.element.find(\".\" + CLASS_NAME.split(' ')[0]);\n",
       "\n",
       "    if (output.metadata[EXEC_MIME_TYPE][\"id\"] !== undefined) {\n",
       "      toinsert[toinsert.length - 1].firstChild.textContent = output.data[JS_MIME_TYPE];\n",
       "      // store reference to embed id on output_area\n",
       "      output_area._bokeh_element_id = output.metadata[EXEC_MIME_TYPE][\"id\"];\n",
       "    }\n",
       "    if (output.metadata[EXEC_MIME_TYPE][\"server_id\"] !== undefined) {\n",
       "      var bk_div = document.createElement(\"div\");\n",
       "      bk_div.innerHTML = output.data[HTML_MIME_TYPE];\n",
       "      var script_attrs = bk_div.children[0].attributes;\n",
       "      for (var i = 0; i < script_attrs.length; i++) {\n",
       "        toinsert[toinsert.length - 1].firstChild.setAttribute(script_attrs[i].name, script_attrs[i].value);\n",
       "      }\n",
       "      // store reference to server id on output_area\n",
       "      output_area._bokeh_server_id = output.metadata[EXEC_MIME_TYPE][\"server_id\"];\n",
       "    }\n",
       "  }\n",
       "\n",
       "  function register_renderer(events, OutputArea) {\n",
       "\n",
       "    function append_mime(data, metadata, element) {\n",
       "      // create a DOM node to render to\n",
       "      var toinsert = this.create_output_subarea(\n",
       "        metadata,\n",
       "        CLASS_NAME,\n",
       "        EXEC_MIME_TYPE\n",
       "      );\n",
       "      this.keyboard_manager.register_events(toinsert);\n",
       "      // Render to node\n",
       "      var props = {data: data, metadata: metadata[EXEC_MIME_TYPE]};\n",
       "      render(props, toinsert[toinsert.length - 1]);\n",
       "      element.append(toinsert);\n",
       "      return toinsert\n",
       "    }\n",
       "\n",
       "    /* Handle when an output is cleared or removed */\n",
       "    events.on('clear_output.CodeCell', handleClearOutput);\n",
       "    events.on('delete.Cell', handleClearOutput);\n",
       "\n",
       "    /* Handle when a new output is added */\n",
       "    events.on('output_added.OutputArea', handleAddOutput);\n",
       "\n",
       "    /**\n",
       "     * Register the mime type and append_mime function with output_area\n",
       "     */\n",
       "    OutputArea.prototype.register_mime_type(EXEC_MIME_TYPE, append_mime, {\n",
       "      /* Is output safe? */\n",
       "      safe: true,\n",
       "      /* Index of renderer in `output_area.display_order` */\n",
       "      index: 0\n",
       "    });\n",
       "  }\n",
       "\n",
       "  // register the mime type if in Jupyter Notebook environment and previously unregistered\n",
       "  if (root.Jupyter !== undefined) {\n",
       "    var events = require('base/js/events');\n",
       "    var OutputArea = require('notebook/js/outputarea').OutputArea;\n",
       "\n",
       "    if (OutputArea.prototype.mime_types().indexOf(EXEC_MIME_TYPE) == -1) {\n",
       "      register_renderer(events, OutputArea);\n",
       "    }\n",
       "  }\n",
       "\n",
       "  \n",
       "  if (typeof (root._bokeh_timeout) === \"undefined\" || force === true) {\n",
       "    root._bokeh_timeout = Date.now() + 5000;\n",
       "    root._bokeh_failed_load = false;\n",
       "  }\n",
       "\n",
       "  var NB_LOAD_WARNING = {'data': {'text/html':\n",
       "     \"<div style='background-color: #fdd'>\\n\"+\n",
       "     \"<p>\\n\"+\n",
       "     \"BokehJS does not appear to have successfully loaded. If loading BokehJS from CDN, this \\n\"+\n",
       "     \"may be due to a slow or bad network connection. Possible fixes:\\n\"+\n",
       "     \"</p>\\n\"+\n",
       "     \"<ul>\\n\"+\n",
       "     \"<li>re-rerun `output_notebook()` to attempt to load from CDN again, or</li>\\n\"+\n",
       "     \"<li>use INLINE resources instead, as so:</li>\\n\"+\n",
       "     \"</ul>\\n\"+\n",
       "     \"<code>\\n\"+\n",
       "     \"from bokeh.resources import INLINE\\n\"+\n",
       "     \"output_notebook(resources=INLINE)\\n\"+\n",
       "     \"</code>\\n\"+\n",
       "     \"</div>\"}};\n",
       "\n",
       "  function display_loaded() {\n",
       "    var el = document.getElementById(\"92994f35-812b-42ad-982c-b8047b9baf0d\");\n",
       "    if (el != null) {\n",
       "      el.textContent = \"BokehJS is loading...\";\n",
       "    }\n",
       "    if (root.Bokeh !== undefined) {\n",
       "      if (el != null) {\n",
       "        el.textContent = \"BokehJS \" + root.Bokeh.version + \" successfully loaded.\";\n",
       "      }\n",
       "    } else if (Date.now() < root._bokeh_timeout) {\n",
       "      setTimeout(display_loaded, 100)\n",
       "    }\n",
       "  }\n",
       "\n",
       "\n",
       "  function run_callbacks() {\n",
       "    try {\n",
       "      root._bokeh_onload_callbacks.forEach(function(callback) { callback() });\n",
       "    }\n",
       "    finally {\n",
       "      delete root._bokeh_onload_callbacks\n",
       "    }\n",
       "    console.info(\"Bokeh: all callbacks have finished\");\n",
       "  }\n",
       "\n",
       "  function load_libs(js_urls, callback) {\n",
       "    root._bokeh_onload_callbacks.push(callback);\n",
       "    if (root._bokeh_is_loading > 0) {\n",
       "      console.log(\"Bokeh: BokehJS is being loaded, scheduling callback at\", now());\n",
       "      return null;\n",
       "    }\n",
       "    if (js_urls == null || js_urls.length === 0) {\n",
       "      run_callbacks();\n",
       "      return null;\n",
       "    }\n",
       "    console.log(\"Bokeh: BokehJS not loaded, scheduling load and callback at\", now());\n",
       "    root._bokeh_is_loading = js_urls.length;\n",
       "    for (var i = 0; i < js_urls.length; i++) {\n",
       "      var url = js_urls[i];\n",
       "      var s = document.createElement('script');\n",
       "      s.src = url;\n",
       "      s.async = false;\n",
       "      s.onreadystatechange = s.onload = function() {\n",
       "        root._bokeh_is_loading--;\n",
       "        if (root._bokeh_is_loading === 0) {\n",
       "          console.log(\"Bokeh: all BokehJS libraries loaded\");\n",
       "          run_callbacks()\n",
       "        }\n",
       "      };\n",
       "      s.onerror = function() {\n",
       "        console.warn(\"failed to load library \" + url);\n",
       "      };\n",
       "      console.log(\"Bokeh: injecting script tag for BokehJS library: \", url);\n",
       "      document.getElementsByTagName(\"head\")[0].appendChild(s);\n",
       "    }\n",
       "  };var element = document.getElementById(\"92994f35-812b-42ad-982c-b8047b9baf0d\");\n",
       "  if (element == null) {\n",
       "    console.log(\"Bokeh: ERROR: autoload.js configured with elementid '92994f35-812b-42ad-982c-b8047b9baf0d' but no matching script tag was found. \")\n",
       "    return false;\n",
       "  }\n",
       "\n",
       "  var js_urls = [\"https://cdn.pydata.org/bokeh/release/bokeh-0.12.16.min.js\", \"https://cdn.pydata.org/bokeh/release/bokeh-widgets-0.12.16.min.js\", \"https://cdn.pydata.org/bokeh/release/bokeh-tables-0.12.16.min.js\", \"https://cdn.pydata.org/bokeh/release/bokeh-gl-0.12.16.min.js\"];\n",
       "\n",
       "  var inline_js = [\n",
       "    function(Bokeh) {\n",
       "      Bokeh.set_log_level(\"info\");\n",
       "    },\n",
       "    \n",
       "    function(Bokeh) {\n",
       "      \n",
       "    },\n",
       "    function(Bokeh) {\n",
       "      console.log(\"Bokeh: injecting CSS: https://cdn.pydata.org/bokeh/release/bokeh-0.12.16.min.css\");\n",
       "      Bokeh.embed.inject_css(\"https://cdn.pydata.org/bokeh/release/bokeh-0.12.16.min.css\");\n",
       "      console.log(\"Bokeh: injecting CSS: https://cdn.pydata.org/bokeh/release/bokeh-widgets-0.12.16.min.css\");\n",
       "      Bokeh.embed.inject_css(\"https://cdn.pydata.org/bokeh/release/bokeh-widgets-0.12.16.min.css\");\n",
       "      console.log(\"Bokeh: injecting CSS: https://cdn.pydata.org/bokeh/release/bokeh-tables-0.12.16.min.css\");\n",
       "      Bokeh.embed.inject_css(\"https://cdn.pydata.org/bokeh/release/bokeh-tables-0.12.16.min.css\");\n",
       "    }\n",
       "  ];\n",
       "\n",
       "  function run_inline_js() {\n",
       "    \n",
       "    if ((root.Bokeh !== undefined) || (force === true)) {\n",
       "      for (var i = 0; i < inline_js.length; i++) {\n",
       "        inline_js[i].call(root, root.Bokeh);\n",
       "      }if (force === true) {\n",
       "        display_loaded();\n",
       "      }} else if (Date.now() < root._bokeh_timeout) {\n",
       "      setTimeout(run_inline_js, 100);\n",
       "    } else if (!root._bokeh_failed_load) {\n",
       "      console.log(\"Bokeh: BokehJS failed to load within specified timeout.\");\n",
       "      root._bokeh_failed_load = true;\n",
       "    } else if (force !== true) {\n",
       "      var cell = $(document.getElementById(\"92994f35-812b-42ad-982c-b8047b9baf0d\")).parents('.cell').data().cell;\n",
       "      cell.output_area.append_execute_result(NB_LOAD_WARNING)\n",
       "    }\n",
       "\n",
       "  }\n",
       "\n",
       "  if (root._bokeh_is_loading === 0) {\n",
       "    console.log(\"Bokeh: BokehJS loaded, going straight to plotting\");\n",
       "    run_inline_js();\n",
       "  } else {\n",
       "    load_libs(js_urls, function() {\n",
       "      console.log(\"Bokeh: BokehJS plotting callback run at\", now());\n",
       "      run_inline_js();\n",
       "    });\n",
       "  }\n",
       "}(window));"
      ],
      "application/vnd.bokehjs_load.v0+json": "\n(function(root) {\n  function now() {\n    return new Date();\n  }\n\n  var force = true;\n\n  if (typeof (root._bokeh_onload_callbacks) === \"undefined\" || force === true) {\n    root._bokeh_onload_callbacks = [];\n    root._bokeh_is_loading = undefined;\n  }\n\n  \n\n  \n  if (typeof (root._bokeh_timeout) === \"undefined\" || force === true) {\n    root._bokeh_timeout = Date.now() + 5000;\n    root._bokeh_failed_load = false;\n  }\n\n  var NB_LOAD_WARNING = {'data': {'text/html':\n     \"<div style='background-color: #fdd'>\\n\"+\n     \"<p>\\n\"+\n     \"BokehJS does not appear to have successfully loaded. If loading BokehJS from CDN, this \\n\"+\n     \"may be due to a slow or bad network connection. Possible fixes:\\n\"+\n     \"</p>\\n\"+\n     \"<ul>\\n\"+\n     \"<li>re-rerun `output_notebook()` to attempt to load from CDN again, or</li>\\n\"+\n     \"<li>use INLINE resources instead, as so:</li>\\n\"+\n     \"</ul>\\n\"+\n     \"<code>\\n\"+\n     \"from bokeh.resources import INLINE\\n\"+\n     \"output_notebook(resources=INLINE)\\n\"+\n     \"</code>\\n\"+\n     \"</div>\"}};\n\n  function display_loaded() {\n    var el = document.getElementById(\"92994f35-812b-42ad-982c-b8047b9baf0d\");\n    if (el != null) {\n      el.textContent = \"BokehJS is loading...\";\n    }\n    if (root.Bokeh !== undefined) {\n      if (el != null) {\n        el.textContent = \"BokehJS \" + root.Bokeh.version + \" successfully loaded.\";\n      }\n    } else if (Date.now() < root._bokeh_timeout) {\n      setTimeout(display_loaded, 100)\n    }\n  }\n\n\n  function run_callbacks() {\n    try {\n      root._bokeh_onload_callbacks.forEach(function(callback) { callback() });\n    }\n    finally {\n      delete root._bokeh_onload_callbacks\n    }\n    console.info(\"Bokeh: all callbacks have finished\");\n  }\n\n  function load_libs(js_urls, callback) {\n    root._bokeh_onload_callbacks.push(callback);\n    if (root._bokeh_is_loading > 0) {\n      console.log(\"Bokeh: BokehJS is being loaded, scheduling callback at\", now());\n      return null;\n    }\n    if (js_urls == null || js_urls.length === 0) {\n      run_callbacks();\n      return null;\n    }\n    console.log(\"Bokeh: BokehJS not loaded, scheduling load and callback at\", now());\n    root._bokeh_is_loading = js_urls.length;\n    for (var i = 0; i < js_urls.length; i++) {\n      var url = js_urls[i];\n      var s = document.createElement('script');\n      s.src = url;\n      s.async = false;\n      s.onreadystatechange = s.onload = function() {\n        root._bokeh_is_loading--;\n        if (root._bokeh_is_loading === 0) {\n          console.log(\"Bokeh: all BokehJS libraries loaded\");\n          run_callbacks()\n        }\n      };\n      s.onerror = function() {\n        console.warn(\"failed to load library \" + url);\n      };\n      console.log(\"Bokeh: injecting script tag for BokehJS library: \", url);\n      document.getElementsByTagName(\"head\")[0].appendChild(s);\n    }\n  };var element = document.getElementById(\"92994f35-812b-42ad-982c-b8047b9baf0d\");\n  if (element == null) {\n    console.log(\"Bokeh: ERROR: autoload.js configured with elementid '92994f35-812b-42ad-982c-b8047b9baf0d' but no matching script tag was found. \")\n    return false;\n  }\n\n  var js_urls = [\"https://cdn.pydata.org/bokeh/release/bokeh-0.12.16.min.js\", \"https://cdn.pydata.org/bokeh/release/bokeh-widgets-0.12.16.min.js\", \"https://cdn.pydata.org/bokeh/release/bokeh-tables-0.12.16.min.js\", \"https://cdn.pydata.org/bokeh/release/bokeh-gl-0.12.16.min.js\"];\n\n  var inline_js = [\n    function(Bokeh) {\n      Bokeh.set_log_level(\"info\");\n    },\n    \n    function(Bokeh) {\n      \n    },\n    function(Bokeh) {\n      console.log(\"Bokeh: injecting CSS: https://cdn.pydata.org/bokeh/release/bokeh-0.12.16.min.css\");\n      Bokeh.embed.inject_css(\"https://cdn.pydata.org/bokeh/release/bokeh-0.12.16.min.css\");\n      console.log(\"Bokeh: injecting CSS: https://cdn.pydata.org/bokeh/release/bokeh-widgets-0.12.16.min.css\");\n      Bokeh.embed.inject_css(\"https://cdn.pydata.org/bokeh/release/bokeh-widgets-0.12.16.min.css\");\n      console.log(\"Bokeh: injecting CSS: https://cdn.pydata.org/bokeh/release/bokeh-tables-0.12.16.min.css\");\n      Bokeh.embed.inject_css(\"https://cdn.pydata.org/bokeh/release/bokeh-tables-0.12.16.min.css\");\n    }\n  ];\n\n  function run_inline_js() {\n    \n    if ((root.Bokeh !== undefined) || (force === true)) {\n      for (var i = 0; i < inline_js.length; i++) {\n        inline_js[i].call(root, root.Bokeh);\n      }if (force === true) {\n        display_loaded();\n      }} else if (Date.now() < root._bokeh_timeout) {\n      setTimeout(run_inline_js, 100);\n    } else if (!root._bokeh_failed_load) {\n      console.log(\"Bokeh: BokehJS failed to load within specified timeout.\");\n      root._bokeh_failed_load = true;\n    } else if (force !== true) {\n      var cell = $(document.getElementById(\"92994f35-812b-42ad-982c-b8047b9baf0d\")).parents('.cell').data().cell;\n      cell.output_area.append_execute_result(NB_LOAD_WARNING)\n    }\n\n  }\n\n  if (root._bokeh_is_loading === 0) {\n    console.log(\"Bokeh: BokehJS loaded, going straight to plotting\");\n    run_inline_js();\n  } else {\n    load_libs(js_urls, function() {\n      console.log(\"Bokeh: BokehJS plotting callback run at\", now());\n      run_inline_js();\n    });\n  }\n}(window));"
     },
     "metadata": {},
     "output_type": "display_data"
    }
   ],
   "source": [
    "output_notebook()\n",
    "\n",
    "#have to make sure call this output notebook or else it come in separate pop out"
   ]
  },
  {
   "cell_type": "code",
   "execution_count": 4,
   "metadata": {},
   "outputs": [],
   "source": [
    "import numpy as np"
   ]
  },
  {
   "cell_type": "code",
   "execution_count": 5,
   "metadata": {},
   "outputs": [],
   "source": [
    "x = np.linspace(-3,3,100)\n",
    "y = np.cos(x)"
   ]
  },
  {
   "cell_type": "code",
   "execution_count": 6,
   "metadata": {},
   "outputs": [
    {
     "data": {
      "text/html": [
       "\n",
       "<div class=\"bk-root\">\n",
       "    <div class=\"bk-plotdiv\" id=\"eb5811df-0785-46b1-b7f9-6d2aa6877e18\"></div>\n",
       "</div>"
      ]
     },
     "metadata": {},
     "output_type": "display_data"
    },
    {
     "data": {
      "application/javascript": [
       "(function(root) {\n",
       "  function embed_document(root) {\n",
       "    \n",
       "  var docs_json = {\"c557f572-d9a1-4edb-a6d8-57396e4fc10e\":{\"roots\":{\"references\":[{\"attributes\":{},\"id\":\"1009a75a-765e-4a0c-a227-bbbd6952b238\",\"type\":\"LinearScale\"},{\"attributes\":{\"formatter\":{\"id\":\"97f50528-bc35-41cb-832c-aad68547b576\",\"type\":\"BasicTickFormatter\"},\"plot\":{\"id\":\"c7f49050-08af-4ace-953e-9d1097087252\",\"subtype\":\"Figure\",\"type\":\"Plot\"},\"ticker\":{\"id\":\"9b816e3d-6841-4d02-bf83-d81319abe00b\",\"type\":\"BasicTicker\"}},\"id\":\"593a263c-13cd-4e33-a879-eb8313a8e11d\",\"type\":\"LinearAxis\"},{\"attributes\":{\"fill_alpha\":{\"value\":0.5},\"fill_color\":{\"value\":\"firebrick\"},\"line_alpha\":{\"value\":0.5},\"line_color\":{\"value\":\"firebrick\"},\"size\":{\"units\":\"screen\",\"value\":7},\"x\":{\"field\":\"x\"},\"y\":{\"field\":\"y\"}},\"id\":\"64040b8e-948c-414c-9a37-614f6adeb5e6\",\"type\":\"Circle\"},{\"attributes\":{},\"id\":\"9b816e3d-6841-4d02-bf83-d81319abe00b\",\"type\":\"BasicTicker\"},{\"attributes\":{\"plot\":{\"id\":\"c7f49050-08af-4ace-953e-9d1097087252\",\"subtype\":\"Figure\",\"type\":\"Plot\"},\"ticker\":{\"id\":\"9b816e3d-6841-4d02-bf83-d81319abe00b\",\"type\":\"BasicTicker\"}},\"id\":\"ec7f4edc-2b80-4334-b7ee-0a801d07518f\",\"type\":\"Grid\"},{\"attributes\":{},\"id\":\"4d50c30f-20bf-418b-938d-6b399e6d3941\",\"type\":\"BasicTickFormatter\"},{\"attributes\":{\"data_source\":{\"id\":\"bc6931a1-be06-43a9-b774-07fe327a5b97\",\"type\":\"ColumnDataSource\"},\"glyph\":{\"id\":\"64040b8e-948c-414c-9a37-614f6adeb5e6\",\"type\":\"Circle\"},\"hover_glyph\":null,\"muted_glyph\":null,\"nonselection_glyph\":{\"id\":\"5f313c3c-42bf-4c7e-83fc-0c49c86eab9d\",\"type\":\"Circle\"},\"selection_glyph\":null,\"view\":{\"id\":\"4d32b1db-0ab3-4853-bcdc-180f6e398711\",\"type\":\"CDSView\"}},\"id\":\"54e173a6-e7ae-43ea-8dd7-cc2c0ad20bd9\",\"type\":\"GlyphRenderer\"},{\"attributes\":{\"fill_alpha\":{\"value\":0.1},\"fill_color\":{\"value\":\"#1f77b4\"},\"line_alpha\":{\"value\":0.1},\"line_color\":{\"value\":\"#1f77b4\"},\"size\":{\"units\":\"screen\",\"value\":7},\"x\":{\"field\":\"x\"},\"y\":{\"field\":\"y\"}},\"id\":\"5f313c3c-42bf-4c7e-83fc-0c49c86eab9d\",\"type\":\"Circle\"},{\"attributes\":{\"formatter\":{\"id\":\"4d50c30f-20bf-418b-938d-6b399e6d3941\",\"type\":\"BasicTickFormatter\"},\"plot\":{\"id\":\"c7f49050-08af-4ace-953e-9d1097087252\",\"subtype\":\"Figure\",\"type\":\"Plot\"},\"ticker\":{\"id\":\"bd043de3-ac5d-4a8d-8d2a-f1b23300a6ad\",\"type\":\"BasicTicker\"}},\"id\":\"21c975d3-75fd-430c-aea7-afecbb71b903\",\"type\":\"LinearAxis\"},{\"attributes\":{},\"id\":\"bd043de3-ac5d-4a8d-8d2a-f1b23300a6ad\",\"type\":\"BasicTicker\"},{\"attributes\":{\"source\":{\"id\":\"bc6931a1-be06-43a9-b774-07fe327a5b97\",\"type\":\"ColumnDataSource\"}},\"id\":\"4d32b1db-0ab3-4853-bcdc-180f6e398711\",\"type\":\"CDSView\"},{\"attributes\":{\"below\":[{\"id\":\"593a263c-13cd-4e33-a879-eb8313a8e11d\",\"type\":\"LinearAxis\"}],\"left\":[{\"id\":\"21c975d3-75fd-430c-aea7-afecbb71b903\",\"type\":\"LinearAxis\"}],\"plot_height\":500,\"plot_width\":500,\"renderers\":[{\"id\":\"593a263c-13cd-4e33-a879-eb8313a8e11d\",\"type\":\"LinearAxis\"},{\"id\":\"ec7f4edc-2b80-4334-b7ee-0a801d07518f\",\"type\":\"Grid\"},{\"id\":\"21c975d3-75fd-430c-aea7-afecbb71b903\",\"type\":\"LinearAxis\"},{\"id\":\"3d08d23a-7afd-48d5-a8a0-d699d3d0c940\",\"type\":\"Grid\"},{\"id\":\"8a2c73bc-b244-4722-861a-bc15ec6ad183\",\"type\":\"BoxAnnotation\"},{\"id\":\"54e173a6-e7ae-43ea-8dd7-cc2c0ad20bd9\",\"type\":\"GlyphRenderer\"}],\"title\":{\"id\":\"31e9de57-7846-4385-9e68-fcb025862c6f\",\"type\":\"Title\"},\"toolbar\":{\"id\":\"ad0fd635-10eb-4f38-80c2-7d5a976de317\",\"type\":\"Toolbar\"},\"x_range\":{\"id\":\"4716f4da-ab1b-400f-b579-390b029caa35\",\"type\":\"DataRange1d\"},\"x_scale\":{\"id\":\"5bcf94d8-d33b-4bfe-9459-c6c60116581b\",\"type\":\"LinearScale\"},\"y_range\":{\"id\":\"df9289e3-f478-455c-985b-69e9e4d7618d\",\"type\":\"DataRange1d\"},\"y_scale\":{\"id\":\"1009a75a-765e-4a0c-a227-bbbd6952b238\",\"type\":\"LinearScale\"}},\"id\":\"c7f49050-08af-4ace-953e-9d1097087252\",\"subtype\":\"Figure\",\"type\":\"Plot\"},{\"attributes\":{},\"id\":\"29157ffd-aa79-454c-887c-a8b945fd5986\",\"type\":\"UnionRenderers\"},{\"attributes\":{\"dimension\":1,\"plot\":{\"id\":\"c7f49050-08af-4ace-953e-9d1097087252\",\"subtype\":\"Figure\",\"type\":\"Plot\"},\"ticker\":{\"id\":\"bd043de3-ac5d-4a8d-8d2a-f1b23300a6ad\",\"type\":\"BasicTicker\"}},\"id\":\"3d08d23a-7afd-48d5-a8a0-d699d3d0c940\",\"type\":\"Grid\"},{\"attributes\":{\"callback\":null,\"data\":{\"x\":{\"__ndarray__\":\"AAAAAAAACMCEDz744IMHwAgffPDBBwfAjC666KKLBsAQPvjggw8GwJNNNtlkkwXAF1100UUXBcCbbLLJJpsEwB988MEHHwTAo4suuuiiA8Anm2yyySYDwKqqqqqqqgLALrrooosuAsCyySabbLIBwDbZZJNNNgHAuuiiiy66AMA++OCDDz4AwIQPPvjgg/+/jC666KKL/r+TTTbZZJP9v5tssskmm/y/o4suuuii+7+qqqqqqqr6v7LJJptssvm/uuiiiy66+L/CBx988MH3v8omm2yyyfa/0UUXXXTR9b/ZZJNNNtn0v+GDDz744PO/6KKLLrro8r/wwQcffPDxv/jggw8++PC/AAAAAAAA8L8QPvjggw/uvyB88MEHH+y/MLrooosu6r88+OCDDz7ov0w22WSTTea/XHTRRRdd5L9ssskmm2ziv3zwwQcffOC/GF100UUX3b842WSTTTbZv1BVVVVVVdW/cNFFF1100b8gm2yyySbLv2CTTTbZZMO/QBdddNFFt78AH3zwwQefvwAffPDBB58/QBdddNFFtz9gk0022WTDPzCbbLLJJss/eNFFF1100T9YVVVVVVXVPzjZZJNNNtk/GF100UUX3T988MEHH3zgP2yyySabbOI/YHTRRRdd5D9QNtlkk03mP0D44IMPPug/MLrooosu6j8gfPDBBx/sPxA++OCDD+4/AAAAAAAA8D/44IMPPvjwP/DBBx988PE/6KKLLrro8j/ggw8++ODzP9hkk0022fQ/0EUXXXTR9T/MJptsssn2P8QHH3zwwfc/vOiiiy66+D+0ySabbLL5P6yqqqqqqvo/pIsuuuii+z+cbLLJJpv8P5RNNtlkk/0/jC666KKL/j+EDz744IP/Pz744IMPPgBAuuiiiy66AEA22WSTTTYBQLLJJptssgFALrrooosuAkCsqqqqqqoCQCibbLLJJgNApIsuuuiiA0AgfPDBBx8EQJxssskmmwRAGF100UUXBUCUTTbZZJMFQBA++OCDDwZAjC666KKLBkAIH3zwwQcHQIQPPvjggwdAAAAAAAAACEA=\",\"dtype\":\"float64\",\"shape\":[100]},\"y\":{\"__ndarray__\":\"0uWFvgSu778SZm6LG1nvvxuYQ4y65u6/7qTfRU1X7r9EM2WLWqvtv5JVgv+D4+y/u5F/fIUA7L+O1qljNAPrv+BdvdR+7Om/qQgOzmq96L/0nz82FXfnvw59ddCwGua/b1n1G4Wp5L/hV0wg7STjv16rFydWjuG/cQRHyXzO37/p/EUhZ2Lcv0PupeCi29i/UefNpoA91b8belgKZ4vRv1bYZ82ekcu/In47MIXyw7+wxy2kVoG4v2F6AKEzDaK/Sx1yInzymT+UpHLbvvm1P2J22SsbscI/3nwczMRTyj8NjyNw1+7QP9vj157ho9Q/WoJN04RF2D/CN7srV9DbP4HF5DgEQd8/jAa1DyhK4T/R3f1QjePiPzz2zAgxa+Q/GNGMEKPf5T+neqRMhT/nP5ark/WMieg/wpXjzoO86T9AEchKSdfqP2oGX5nT2Os/9hmPojDA7D8JuZrphoztPy6YkVkWPe4/y3bg+TjR7j+Wa1WKY0jvPx0RBgYmou8/FIacDCze7z8iRagxPfzvPyJFqDE9/O8/FIacDCze7z8dEQYGJqLvP5VrVYpjSO8/yXbg+TjR7j8smJFZFj3uPwm5mumGjO0/9hmPojDA7D9qBl+Z09jrP0ARyEpJ1+o/v5XjzoO86T+Uq5P1jInoP6R6pEyFP+c/GNGMEKPf5T889swIMWvkP9Hd/VCN4+I/jAa1DyhK4T+BxeQ4BEHfP8I3uytX0Ns/WoJN04RF2D/e49ee4aPUPxGPI3DX7tA/5nwczMRTyj9SdtkrG7HCP3Skctu++bU/yxxyInzymT+hegChMw2iv9DHLaRWgbi/Kn47MIXyw79e2GfNnpHLvx96WApni9G/UefNpoA91b9D7qXgotvYv+n8RSFnYty/cQRHyXzO379eqxcnVo7hv+FXTCDtJOO/b1n1G4Wp5L8TfXXQsBrmv/afPzYVd+e/rAgOzmq96L/iXb3Ufuzpv5DWqWM0A+u/vZF/fIUA7L+UVYL/g+Psv0QzZYtaq+2/7qTfRU1X7r8bmEOMuubuvxJmbosbWe+/0uWFvgSu778=\",\"dtype\":\"float64\",\"shape\":[100]}},\"selected\":{\"id\":\"f2f58a9f-78a7-456b-a799-d1672d33629a\",\"type\":\"Selection\"},\"selection_policy\":{\"id\":\"29157ffd-aa79-454c-887c-a8b945fd5986\",\"type\":\"UnionRenderers\"}},\"id\":\"bc6931a1-be06-43a9-b774-07fe327a5b97\",\"type\":\"ColumnDataSource\"},{\"attributes\":{\"bottom_units\":\"screen\",\"fill_alpha\":{\"value\":0.5},\"fill_color\":{\"value\":\"lightgrey\"},\"left_units\":\"screen\",\"level\":\"overlay\",\"line_alpha\":{\"value\":1.0},\"line_color\":{\"value\":\"black\"},\"line_dash\":[4,4],\"line_width\":{\"value\":2},\"plot\":null,\"render_mode\":\"css\",\"right_units\":\"screen\",\"top_units\":\"screen\"},\"id\":\"8a2c73bc-b244-4722-861a-bc15ec6ad183\",\"type\":\"BoxAnnotation\"},{\"attributes\":{\"plot\":null,\"text\":\"\"},\"id\":\"31e9de57-7846-4385-9e68-fcb025862c6f\",\"type\":\"Title\"},{\"attributes\":{\"active_drag\":\"auto\",\"active_inspect\":\"auto\",\"active_scroll\":\"auto\",\"active_tap\":\"auto\",\"tools\":[{\"id\":\"acf8ab10-e3fc-48c9-aa82-77d977e3b276\",\"type\":\"PanTool\"},{\"id\":\"3a7acc11-9983-484f-963a-4cf143e7bc32\",\"type\":\"WheelZoomTool\"},{\"id\":\"a0e754d4-d7f9-44a4-bb7c-384d7ff3e12e\",\"type\":\"BoxZoomTool\"},{\"id\":\"cc0f557b-6c89-4662-ac69-a25f8eaaee77\",\"type\":\"SaveTool\"},{\"id\":\"bcdb1f5f-28bf-42d4-b6f8-65bb7c925942\",\"type\":\"ResetTool\"},{\"id\":\"62a4d633-2fc1-4ebf-80a9-640da9e62f3c\",\"type\":\"HelpTool\"}]},\"id\":\"ad0fd635-10eb-4f38-80c2-7d5a976de317\",\"type\":\"Toolbar\"},{\"attributes\":{},\"id\":\"acf8ab10-e3fc-48c9-aa82-77d977e3b276\",\"type\":\"PanTool\"},{\"attributes\":{\"callback\":null},\"id\":\"4716f4da-ab1b-400f-b579-390b029caa35\",\"type\":\"DataRange1d\"},{\"attributes\":{},\"id\":\"3a7acc11-9983-484f-963a-4cf143e7bc32\",\"type\":\"WheelZoomTool\"},{\"attributes\":{\"overlay\":{\"id\":\"8a2c73bc-b244-4722-861a-bc15ec6ad183\",\"type\":\"BoxAnnotation\"}},\"id\":\"a0e754d4-d7f9-44a4-bb7c-384d7ff3e12e\",\"type\":\"BoxZoomTool\"},{\"attributes\":{},\"id\":\"cc0f557b-6c89-4662-ac69-a25f8eaaee77\",\"type\":\"SaveTool\"},{\"attributes\":{\"callback\":null},\"id\":\"df9289e3-f478-455c-985b-69e9e4d7618d\",\"type\":\"DataRange1d\"},{\"attributes\":{},\"id\":\"bcdb1f5f-28bf-42d4-b6f8-65bb7c925942\",\"type\":\"ResetTool\"},{\"attributes\":{},\"id\":\"97f50528-bc35-41cb-832c-aad68547b576\",\"type\":\"BasicTickFormatter\"},{\"attributes\":{},\"id\":\"62a4d633-2fc1-4ebf-80a9-640da9e62f3c\",\"type\":\"HelpTool\"},{\"attributes\":{},\"id\":\"f2f58a9f-78a7-456b-a799-d1672d33629a\",\"type\":\"Selection\"},{\"attributes\":{},\"id\":\"5bcf94d8-d33b-4bfe-9459-c6c60116581b\",\"type\":\"LinearScale\"}],\"root_ids\":[\"c7f49050-08af-4ace-953e-9d1097087252\"]},\"title\":\"Bokeh Application\",\"version\":\"0.12.16\"}};\n",
       "  var render_items = [{\"docid\":\"c557f572-d9a1-4edb-a6d8-57396e4fc10e\",\"elementid\":\"eb5811df-0785-46b1-b7f9-6d2aa6877e18\",\"modelid\":\"c7f49050-08af-4ace-953e-9d1097087252\"}];\n",
       "  root.Bokeh.embed.embed_items_notebook(docs_json, render_items);\n",
       "\n",
       "  }\n",
       "  if (root.Bokeh !== undefined) {\n",
       "    embed_document(root);\n",
       "  } else {\n",
       "    var attempts = 0;\n",
       "    var timer = setInterval(function(root) {\n",
       "      if (root.Bokeh !== undefined) {\n",
       "        embed_document(root);\n",
       "        clearInterval(timer);\n",
       "      }\n",
       "      attempts++;\n",
       "      if (attempts > 100) {\n",
       "        console.log(\"Bokeh: ERROR: Unable to run BokehJS code because BokehJS library is missing\")\n",
       "        clearInterval(timer);\n",
       "      }\n",
       "    }, 10, root)\n",
       "  }\n",
       "})(window);"
      ],
      "application/vnd.bokehjs_exec.v0+json": ""
     },
     "metadata": {
      "application/vnd.bokehjs_exec.v0+json": {
       "id": "c7f49050-08af-4ace-953e-9d1097087252"
      }
     },
     "output_type": "display_data"
    }
   ],
   "source": [
    "p = figure(width=500, height = 500)\n",
    "p.circle(x, y, size = 7, color = \"firebrick\", alpha = 0.5)\n",
    "show(p)"
   ]
  },
  {
   "cell_type": "code",
   "execution_count": 7,
   "metadata": {},
   "outputs": [],
   "source": [
    "from bokeh.sampledata.autompg import autompg"
   ]
  },
  {
   "cell_type": "code",
   "execution_count": 8,
   "metadata": {},
   "outputs": [
    {
     "data": {
      "text/html": [
       "<div>\n",
       "<style scoped>\n",
       "    .dataframe tbody tr th:only-of-type {\n",
       "        vertical-align: middle;\n",
       "    }\n",
       "\n",
       "    .dataframe tbody tr th {\n",
       "        vertical-align: top;\n",
       "    }\n",
       "\n",
       "    .dataframe thead th {\n",
       "        text-align: right;\n",
       "    }\n",
       "</style>\n",
       "<table border=\"1\" class=\"dataframe\">\n",
       "  <thead>\n",
       "    <tr style=\"text-align: right;\">\n",
       "      <th></th>\n",
       "      <th>mpg</th>\n",
       "      <th>cyl</th>\n",
       "      <th>displ</th>\n",
       "      <th>hp</th>\n",
       "      <th>weight</th>\n",
       "      <th>accel</th>\n",
       "      <th>yr</th>\n",
       "      <th>origin</th>\n",
       "      <th>name</th>\n",
       "    </tr>\n",
       "  </thead>\n",
       "  <tbody>\n",
       "    <tr>\n",
       "      <th>0</th>\n",
       "      <td>18.0</td>\n",
       "      <td>8</td>\n",
       "      <td>307.0</td>\n",
       "      <td>130</td>\n",
       "      <td>3504</td>\n",
       "      <td>12.0</td>\n",
       "      <td>70</td>\n",
       "      <td>1</td>\n",
       "      <td>chevrolet chevelle malibu</td>\n",
       "    </tr>\n",
       "    <tr>\n",
       "      <th>1</th>\n",
       "      <td>15.0</td>\n",
       "      <td>8</td>\n",
       "      <td>350.0</td>\n",
       "      <td>165</td>\n",
       "      <td>3693</td>\n",
       "      <td>11.5</td>\n",
       "      <td>70</td>\n",
       "      <td>1</td>\n",
       "      <td>buick skylark 320</td>\n",
       "    </tr>\n",
       "    <tr>\n",
       "      <th>2</th>\n",
       "      <td>18.0</td>\n",
       "      <td>8</td>\n",
       "      <td>318.0</td>\n",
       "      <td>150</td>\n",
       "      <td>3436</td>\n",
       "      <td>11.0</td>\n",
       "      <td>70</td>\n",
       "      <td>1</td>\n",
       "      <td>plymouth satellite</td>\n",
       "    </tr>\n",
       "    <tr>\n",
       "      <th>3</th>\n",
       "      <td>16.0</td>\n",
       "      <td>8</td>\n",
       "      <td>304.0</td>\n",
       "      <td>150</td>\n",
       "      <td>3433</td>\n",
       "      <td>12.0</td>\n",
       "      <td>70</td>\n",
       "      <td>1</td>\n",
       "      <td>amc rebel sst</td>\n",
       "    </tr>\n",
       "    <tr>\n",
       "      <th>4</th>\n",
       "      <td>17.0</td>\n",
       "      <td>8</td>\n",
       "      <td>302.0</td>\n",
       "      <td>140</td>\n",
       "      <td>3449</td>\n",
       "      <td>10.5</td>\n",
       "      <td>70</td>\n",
       "      <td>1</td>\n",
       "      <td>ford torino</td>\n",
       "    </tr>\n",
       "  </tbody>\n",
       "</table>\n",
       "</div>"
      ],
      "text/plain": [
       "    mpg  cyl  displ   hp  weight  accel  yr  origin                       name\n",
       "0  18.0    8  307.0  130    3504   12.0  70       1  chevrolet chevelle malibu\n",
       "1  15.0    8  350.0  165    3693   11.5  70       1          buick skylark 320\n",
       "2  18.0    8  318.0  150    3436   11.0  70       1         plymouth satellite\n",
       "3  16.0    8  304.0  150    3433   12.0  70       1              amc rebel sst\n",
       "4  17.0    8  302.0  140    3449   10.5  70       1                ford torino"
      ]
     },
     "execution_count": 8,
     "metadata": {},
     "output_type": "execute_result"
    }
   ],
   "source": [
    "autompg.head()"
   ]
  },
  {
   "cell_type": "code",
   "execution_count": 10,
   "metadata": {},
   "outputs": [
    {
     "data": {
      "text/html": [
       "<div>\n",
       "<style scoped>\n",
       "    .dataframe tbody tr th:only-of-type {\n",
       "        vertical-align: middle;\n",
       "    }\n",
       "\n",
       "    .dataframe tbody tr th {\n",
       "        vertical-align: top;\n",
       "    }\n",
       "\n",
       "    .dataframe thead th {\n",
       "        text-align: right;\n",
       "    }\n",
       "</style>\n",
       "<table border=\"1\" class=\"dataframe\">\n",
       "  <thead>\n",
       "    <tr style=\"text-align: right;\">\n",
       "      <th></th>\n",
       "      <th>mpg</th>\n",
       "      <th>cyl</th>\n",
       "      <th>displ</th>\n",
       "      <th>hp</th>\n",
       "      <th>weight</th>\n",
       "      <th>accel</th>\n",
       "      <th>yr</th>\n",
       "      <th>origin</th>\n",
       "      <th>name</th>\n",
       "    </tr>\n",
       "  </thead>\n",
       "  <tbody>\n",
       "    <tr>\n",
       "      <th>14</th>\n",
       "      <td>24.0</td>\n",
       "      <td>4</td>\n",
       "      <td>113.0</td>\n",
       "      <td>95</td>\n",
       "      <td>2372</td>\n",
       "      <td>15.0</td>\n",
       "      <td>70</td>\n",
       "      <td>3</td>\n",
       "      <td>toyota corona mark ii</td>\n",
       "    </tr>\n",
       "    <tr>\n",
       "      <th>18</th>\n",
       "      <td>27.0</td>\n",
       "      <td>4</td>\n",
       "      <td>97.0</td>\n",
       "      <td>88</td>\n",
       "      <td>2130</td>\n",
       "      <td>14.5</td>\n",
       "      <td>70</td>\n",
       "      <td>3</td>\n",
       "      <td>datsun pl510</td>\n",
       "    </tr>\n",
       "    <tr>\n",
       "      <th>29</th>\n",
       "      <td>27.0</td>\n",
       "      <td>4</td>\n",
       "      <td>97.0</td>\n",
       "      <td>88</td>\n",
       "      <td>2130</td>\n",
       "      <td>14.5</td>\n",
       "      <td>71</td>\n",
       "      <td>3</td>\n",
       "      <td>datsun pl510</td>\n",
       "    </tr>\n",
       "    <tr>\n",
       "      <th>31</th>\n",
       "      <td>25.0</td>\n",
       "      <td>4</td>\n",
       "      <td>113.0</td>\n",
       "      <td>95</td>\n",
       "      <td>2228</td>\n",
       "      <td>14.0</td>\n",
       "      <td>71</td>\n",
       "      <td>3</td>\n",
       "      <td>toyota corona</td>\n",
       "    </tr>\n",
       "    <tr>\n",
       "      <th>52</th>\n",
       "      <td>31.0</td>\n",
       "      <td>4</td>\n",
       "      <td>71.0</td>\n",
       "      <td>65</td>\n",
       "      <td>1773</td>\n",
       "      <td>19.0</td>\n",
       "      <td>71</td>\n",
       "      <td>3</td>\n",
       "      <td>toyota corolla 1200</td>\n",
       "    </tr>\n",
       "  </tbody>\n",
       "</table>\n",
       "</div>"
      ],
      "text/plain": [
       "     mpg  cyl  displ  hp  weight  accel  yr  origin                   name\n",
       "14  24.0    4  113.0  95    2372   15.0  70       3  toyota corona mark ii\n",
       "18  27.0    4   97.0  88    2130   14.5  70       3           datsun pl510\n",
       "29  27.0    4   97.0  88    2130   14.5  71       3           datsun pl510\n",
       "31  25.0    4  113.0  95    2228   14.0  71       3          toyota corona\n",
       "52  31.0    4   71.0  65    1773   19.0  71       3    toyota corolla 1200"
      ]
     },
     "execution_count": 10,
     "metadata": {},
     "output_type": "execute_result"
    }
   ],
   "source": [
    "autompg[autompg[\"origin\"] == 3].head()"
   ]
  },
  {
   "cell_type": "code",
   "execution_count": 11,
   "metadata": {},
   "outputs": [],
   "source": [
    "grouped = autompg.groupby('yr') #group by year\n",
    "mpg = grouped['mpg'] #pull out mpg for each group, for every year info on mpg\n",
    "avg = mpg.mean() #take avg of each year's mpg\n",
    "std = mpg.std() #look at std of mpg's per year\n",
    "years = list(grouped.groups.keys()) #use years as labels to plot with\n",
    "american = autompg[autompg[\"origin\"] == 1]\n",
    "japanese = autompg[autompg[\"origin\"] == 3]"
   ]
  },
  {
   "cell_type": "code",
   "execution_count": 12,
   "metadata": {},
   "outputs": [
    {
     "data": {
      "text/html": [
       "\n",
       "<div class=\"bk-root\">\n",
       "    <div class=\"bk-plotdiv\" id=\"8347bede-331f-4f21-b846-f16d245fe372\"></div>\n",
       "</div>"
      ]
     },
     "metadata": {},
     "output_type": "display_data"
    },
    {
     "data": {
      "application/javascript": [
       "(function(root) {\n",
       "  function embed_document(root) {\n",
       "    \n",
       "  var docs_json = {\"f83c3a90-3921-425c-878f-11e77564e802\":{\"roots\":{\"references\":[{\"attributes\":{\"fill_alpha\":{\"value\":0.1},\"fill_color\":{\"value\":\"#1f77b4\"},\"line_alpha\":{\"value\":0.1},\"line_color\":{\"value\":\"#1f77b4\"},\"size\":{\"units\":\"screen\",\"value\":10},\"x\":{\"field\":\"x\"},\"y\":{\"field\":\"y\"}},\"id\":\"d6943c3a-975c-46a4-a990-6e80d856aba9\",\"type\":\"Circle\"},{\"attributes\":{\"fill_alpha\":{\"value\":0.3},\"fill_color\":{\"value\":\"blue\"},\"line_alpha\":{\"value\":0.3},\"line_color\":{\"value\":\"blue\"},\"size\":{\"units\":\"screen\",\"value\":10},\"x\":{\"field\":\"x\"},\"y\":{\"field\":\"y\"}},\"id\":\"7ced32c4-bf4a-4aa0-ac48-88e0a1c7ae68\",\"type\":\"Triangle\"},{\"attributes\":{\"below\":[{\"id\":\"1e62c010-0f53-400e-aa44-181327c9a1bd\",\"type\":\"LinearAxis\"}],\"left\":[{\"id\":\"2d3c446f-4dde-438a-b9f8-3202e4b68961\",\"type\":\"LinearAxis\"}],\"renderers\":[{\"id\":\"1e62c010-0f53-400e-aa44-181327c9a1bd\",\"type\":\"LinearAxis\"},{\"id\":\"1e403eff-0493-42e2-8036-177619995880\",\"type\":\"Grid\"},{\"id\":\"2d3c446f-4dde-438a-b9f8-3202e4b68961\",\"type\":\"LinearAxis\"},{\"id\":\"9193aa97-0eab-4bc3-92d4-7a9659516a4d\",\"type\":\"Grid\"},{\"id\":\"576735d3-ec12-4084-8fac-e6859fdfbbc5\",\"type\":\"BoxAnnotation\"},{\"id\":\"c833ae30-f766-487b-aba7-ad60460b0d74\",\"type\":\"Legend\"},{\"id\":\"5b79965b-4c17-4f5d-919b-5e7a46cf64e3\",\"type\":\"GlyphRenderer\"},{\"id\":\"c3800061-f36f-4bc7-8857-1691edbb7c98\",\"type\":\"GlyphRenderer\"},{\"id\":\"5a265f80-374b-4be8-b0e4-665976e23219\",\"type\":\"GlyphRenderer\"}],\"title\":{\"id\":\"f7ed967e-d22a-4b71-ba31-85bc48ba3af2\",\"type\":\"Title\"},\"toolbar\":{\"id\":\"ed91e8c2-6d1a-43fd-a761-03bd3e1506b1\",\"type\":\"Toolbar\"},\"x_range\":{\"id\":\"2d5fa7c5-d21d-4473-a0ff-c8ea706c7b5a\",\"type\":\"DataRange1d\"},\"x_scale\":{\"id\":\"7983da51-c57e-4cac-90c0-9c4d7651e980\",\"type\":\"LinearScale\"},\"y_range\":{\"id\":\"0c537bba-ce04-4e53-ad1d-43f3bb6bfa61\",\"type\":\"DataRange1d\"},\"y_scale\":{\"id\":\"1dcbd9eb-9ab5-4bc7-9b54-b0e355a978ad\",\"type\":\"LinearScale\"}},\"id\":\"ab065ef8-b888-4f73-84bb-e811bf573408\",\"subtype\":\"Figure\",\"type\":\"Plot\"},{\"attributes\":{\"data_source\":{\"id\":\"34d8694a-3fad-4de8-9d0d-c2875a73fda0\",\"type\":\"ColumnDataSource\"},\"glyph\":{\"id\":\"7ced32c4-bf4a-4aa0-ac48-88e0a1c7ae68\",\"type\":\"Triangle\"},\"hover_glyph\":null,\"muted_glyph\":null,\"nonselection_glyph\":{\"id\":\"3e48d93a-3ae5-48e4-9e62-78340a8e8ead\",\"type\":\"Triangle\"},\"selection_glyph\":null,\"view\":{\"id\":\"2aa87326-3b9c-4341-a681-ff9e3b145992\",\"type\":\"CDSView\"}},\"id\":\"5a265f80-374b-4be8-b0e4-665976e23219\",\"type\":\"GlyphRenderer\"},{\"attributes\":{\"plot\":null,\"text\":\"MPG by Year (Japan and US)\"},\"id\":\"f7ed967e-d22a-4b71-ba31-85bc48ba3af2\",\"type\":\"Title\"},{\"attributes\":{\"callback\":null},\"id\":\"2d5fa7c5-d21d-4473-a0ff-c8ea706c7b5a\",\"type\":\"DataRange1d\"},{\"attributes\":{},\"id\":\"3ac74403-f51a-4e91-87d9-da8949f808e6\",\"type\":\"HelpTool\"},{\"attributes\":{\"active_drag\":\"auto\",\"active_inspect\":\"auto\",\"active_scroll\":\"auto\",\"active_tap\":\"auto\",\"tools\":[{\"id\":\"7c548afd-631a-49ea-97e2-75d2add6ae71\",\"type\":\"PanTool\"},{\"id\":\"7f91120f-1433-403a-aa4f-a6e49fa5dc81\",\"type\":\"WheelZoomTool\"},{\"id\":\"2e81d21f-5b36-42c2-ab10-0df286f1eda0\",\"type\":\"BoxZoomTool\"},{\"id\":\"173bd8d1-6dfb-48f9-bc4b-39c62df3105e\",\"type\":\"SaveTool\"},{\"id\":\"284a78ea-c622-4b6e-8093-21c25e2cc2a4\",\"type\":\"ResetTool\"},{\"id\":\"3ac74403-f51a-4e91-87d9-da8949f808e6\",\"type\":\"HelpTool\"}]},\"id\":\"ed91e8c2-6d1a-43fd-a761-03bd3e1506b1\",\"type\":\"Toolbar\"},{\"attributes\":{},\"id\":\"dea51bca-fdb2-4dd7-bf5d-530d7be64c69\",\"type\":\"Selection\"},{\"attributes\":{},\"id\":\"7983da51-c57e-4cac-90c0-9c4d7651e980\",\"type\":\"LinearScale\"},{\"attributes\":{\"bottom\":{\"field\":\"bottom\"},\"fill_alpha\":{\"value\":0.1},\"fill_color\":{\"value\":\"#1f77b4\"},\"line_alpha\":{\"value\":0.1},\"line_color\":{\"value\":\"#1f77b4\"},\"top\":{\"field\":\"top\"},\"width\":{\"value\":0.8},\"x\":{\"field\":\"x\"}},\"id\":\"f24e38fe-621f-4b2b-b761-92c88e007c2a\",\"type\":\"VBar\"},{\"attributes\":{\"callback\":null},\"id\":\"0c537bba-ce04-4e53-ad1d-43f3bb6bfa61\",\"type\":\"DataRange1d\"},{\"attributes\":{\"items\":[{\"id\":\"add4b4b4-3fdb-4213-929a-d0e63ccace21\",\"type\":\"LegendItem\"},{\"id\":\"86887e19-cffc-4ff6-b4ce-42eafb20c6bb\",\"type\":\"LegendItem\"},{\"id\":\"36d4623c-cd7f-496e-bc2d-397380f296b0\",\"type\":\"LegendItem\"}],\"plot\":{\"id\":\"ab065ef8-b888-4f73-84bb-e811bf573408\",\"subtype\":\"Figure\",\"type\":\"Plot\"}},\"id\":\"c833ae30-f766-487b-aba7-ad60460b0d74\",\"type\":\"Legend\"},{\"attributes\":{},\"id\":\"1dcbd9eb-9ab5-4bc7-9b54-b0e355a978ad\",\"type\":\"LinearScale\"},{\"attributes\":{\"fill_alpha\":{\"value\":0.5},\"fill_color\":{\"value\":\"red\"},\"line_alpha\":{\"value\":0.5},\"line_color\":{\"value\":\"red\"},\"size\":{\"units\":\"screen\",\"value\":10},\"x\":{\"field\":\"x\"},\"y\":{\"field\":\"y\"}},\"id\":\"55047499-5f1f-40ff-883d-e27f769d1e81\",\"type\":\"Circle\"},{\"attributes\":{\"plot\":{\"id\":\"ab065ef8-b888-4f73-84bb-e811bf573408\",\"subtype\":\"Figure\",\"type\":\"Plot\"},\"ticker\":{\"id\":\"7036f1c6-ae9b-4fdb-a844-f2997ab63d98\",\"type\":\"BasicTicker\"}},\"id\":\"1e403eff-0493-42e2-8036-177619995880\",\"type\":\"Grid\"},{\"attributes\":{\"callback\":null,\"data\":{\"x\":[70,70,71,71,71,71,72,72,72,72,72,73,73,73,73,74,74,74,74,74,74,75,75,75,75,76,76,76,76,77,77,77,77,77,77,78,78,78,78,78,78,78,78,79,79,80,80,80,80,80,80,80,80,80,80,80,80,80,81,81,81,81,81,81,81,81,81,81,81,81,82,82,82,82,82,82,82,82,82],\"y\":{\"__ndarray__\":\"AAAAAAAAOEAAAAAAAAA7QAAAAAAAADtAAAAAAAAAOUAAAAAAAAA/QAAAAAAAgEFAAAAAAAAAOEAAAAAAAAAzQAAAAAAAADxAAAAAAAAAN0AAAAAAAAA7QAAAAAAAADRAAAAAAAAANkAAAAAAAAAyQAAAAAAAADRAAAAAAAAAP0AAAAAAAABAQAAAAAAAAD9AAAAAAAAAQEAAAAAAAAA4QAAAAAAAADpAAAAAAAAAPUAAAAAAAAA4QAAAAAAAADhAAAAAAACAQEAAAAAAAIBAQAAAAAAAAEBAAAAAAAAAPEAAAAAAAAAzQAAAAAAAgD9AAAAAAADAQEAAAAAAAAA6QAAAAAAAAD5AAAAAAAAANkAAAAAAAIA1QGZmZmZmZkBAMzMzMzOzQ0DNzMzMzAxCQAAAAAAAgDtAMzMzMzMzO0CamZmZmRk1QGZmZmZm5jdAAAAAAACAPUDNzMzMzAxBQM3MzMzMzD9AzczMzMwMQ0CamZmZmZlCQM3MzMzMzD1AzczMzMxMP0AAAAAAAIBCQJqZmZmZGUBAzczMzMxMR0BmZmZmZmZEQM3MzMzMTEZAZmZmZmbmQECamZmZmVlAQDMzMzMzszdAMzMzMzMzQEDNzMzMzIxDQM3MzMzMjEFAZmZmZmYmQEAAAAAAAIBCQJqZmZmZ2UJAzczMzMwMQUCamZmZmdlAQDMzMzMzM0BAMzMzMzNzQECamZmZmZk/QGZmZmZmZjlAMzMzMzMzOEAAAAAAAIBCQAAAAAAAAD9AAAAAAAAAQkAAAAAAAABCQAAAAAAAAEFAAAAAAAAAQ0AAAAAAAABAQAAAAAAAAENAAAAAAAAAQEA=\",\"dtype\":\"float64\",\"shape\":[79]}},\"selected\":{\"id\":\"57d8bcc3-b641-445b-9c2b-8c8efc947337\",\"type\":\"Selection\"},\"selection_policy\":{\"id\":\"45e47667-6f0a-4114-805b-044c38a3154c\",\"type\":\"UnionRenderers\"}},\"id\":\"d35db8ff-eaf1-4bbc-a360-f25080003672\",\"type\":\"ColumnDataSource\"},{\"attributes\":{\"formatter\":{\"id\":\"3187ebdd-29aa-42b5-9a45-d51d3de66914\",\"type\":\"BasicTickFormatter\"},\"plot\":{\"id\":\"ab065ef8-b888-4f73-84bb-e811bf573408\",\"subtype\":\"Figure\",\"type\":\"Plot\"},\"ticker\":{\"id\":\"7036f1c6-ae9b-4fdb-a844-f2997ab63d98\",\"type\":\"BasicTicker\"}},\"id\":\"1e62c010-0f53-400e-aa44-181327c9a1bd\",\"type\":\"LinearAxis\"},{\"attributes\":{\"source\":{\"id\":\"9cb1b641-3bf7-42ad-88f8-aaa4d4102b43\",\"type\":\"ColumnDataSource\"}},\"id\":\"72b169ba-e409-4fa0-88dd-3281e69b4fbb\",\"type\":\"CDSView\"},{\"attributes\":{},\"id\":\"7036f1c6-ae9b-4fdb-a844-f2997ab63d98\",\"type\":\"BasicTicker\"},{\"attributes\":{\"formatter\":{\"id\":\"25e75f3b-5399-413e-9d20-4d212f00aa91\",\"type\":\"BasicTickFormatter\"},\"plot\":{\"id\":\"ab065ef8-b888-4f73-84bb-e811bf573408\",\"subtype\":\"Figure\",\"type\":\"Plot\"},\"ticker\":{\"id\":\"bbbddbbc-7f85-4cb7-859c-9d24b0db1b01\",\"type\":\"BasicTicker\"}},\"id\":\"2d3c446f-4dde-438a-b9f8-3202e4b68961\",\"type\":\"LinearAxis\"},{\"attributes\":{},\"id\":\"3187ebdd-29aa-42b5-9a45-d51d3de66914\",\"type\":\"BasicTickFormatter\"},{\"attributes\":{\"label\":{\"value\":\"MPG 1 stddev\"},\"renderers\":[{\"id\":\"5b79965b-4c17-4f5d-919b-5e7a46cf64e3\",\"type\":\"GlyphRenderer\"}]},\"id\":\"add4b4b4-3fdb-4213-929a-d0e63ccace21\",\"type\":\"LegendItem\"},{\"attributes\":{\"label\":{\"value\":\"Japanese\"},\"renderers\":[{\"id\":\"c3800061-f36f-4bc7-8857-1691edbb7c98\",\"type\":\"GlyphRenderer\"}]},\"id\":\"86887e19-cffc-4ff6-b4ce-42eafb20c6bb\",\"type\":\"LegendItem\"},{\"attributes\":{},\"id\":\"bbbddbbc-7f85-4cb7-859c-9d24b0db1b01\",\"type\":\"BasicTicker\"},{\"attributes\":{\"data_source\":{\"id\":\"d35db8ff-eaf1-4bbc-a360-f25080003672\",\"type\":\"ColumnDataSource\"},\"glyph\":{\"id\":\"55047499-5f1f-40ff-883d-e27f769d1e81\",\"type\":\"Circle\"},\"hover_glyph\":null,\"muted_glyph\":null,\"nonselection_glyph\":{\"id\":\"d6943c3a-975c-46a4-a990-6e80d856aba9\",\"type\":\"Circle\"},\"selection_glyph\":null,\"view\":{\"id\":\"048229cb-2723-44fe-95d7-1f4bc5f92498\",\"type\":\"CDSView\"}},\"id\":\"c3800061-f36f-4bc7-8857-1691edbb7c98\",\"type\":\"GlyphRenderer\"},{\"attributes\":{\"dimension\":1,\"plot\":{\"id\":\"ab065ef8-b888-4f73-84bb-e811bf573408\",\"subtype\":\"Figure\",\"type\":\"Plot\"},\"ticker\":{\"id\":\"bbbddbbc-7f85-4cb7-859c-9d24b0db1b01\",\"type\":\"BasicTicker\"}},\"id\":\"9193aa97-0eab-4bc3-92d4-7a9659516a4d\",\"type\":\"Grid\"},{\"attributes\":{\"source\":{\"id\":\"d35db8ff-eaf1-4bbc-a360-f25080003672\",\"type\":\"ColumnDataSource\"}},\"id\":\"048229cb-2723-44fe-95d7-1f4bc5f92498\",\"type\":\"CDSView\"},{\"attributes\":{\"bottom\":{\"field\":\"bottom\"},\"fill_alpha\":{\"value\":0.2},\"fill_color\":{\"value\":\"#1f77b4\"},\"line_color\":{\"value\":null},\"top\":{\"field\":\"top\"},\"width\":{\"value\":0.8},\"x\":{\"field\":\"x\"}},\"id\":\"af1cb875-7569-4701-9d77-75ca63208912\",\"type\":\"VBar\"},{\"attributes\":{\"fill_alpha\":{\"value\":0.1},\"fill_color\":{\"value\":\"#1f77b4\"},\"line_alpha\":{\"value\":0.1},\"line_color\":{\"value\":\"#1f77b4\"},\"size\":{\"units\":\"screen\",\"value\":10},\"x\":{\"field\":\"x\"},\"y\":{\"field\":\"y\"}},\"id\":\"3e48d93a-3ae5-48e4-9e62-78340a8e8ead\",\"type\":\"Triangle\"},{\"attributes\":{},\"id\":\"7d333e59-ffd5-48fe-969f-96c79ebe4413\",\"type\":\"UnionRenderers\"},{\"attributes\":{\"callback\":null,\"data\":{\"bottom\":{\"__ndarray__\":\"gvFgx2qzKECcKci59t4sQJZdRzm5jipAzvVtn6zMKECki7kXNjswQIpnc6D2pi5ApAV4qVNeL0DtFQi6+rIwQBxLQL6+KTFAWBwW2YNMMkBnDzEy+Oo6QAq856zmjDhAfzfsSXnEOkA=\",\"dtype\":\"float64\",\"shape\":[13]},\"top\":{\"__ndarray__\":\"55jlF2UHN0DAzlQxaMk7QBEIyj5aJjhATTh849zMNUD6TNCFok49QMPUTjgNNTlA1KLp0Ht2O0AT6vdFBQ0+QNr+XjaL9T5AVt48aCfjP0AojYptQ1hEQPSsO6IX6UFAQOQJW8OdQkA=\",\"dtype\":\"float64\",\"shape\":[13]},\"x\":[70,71,72,73,74,75,76,77,78,79,80,81,82]},\"selected\":{\"id\":\"dea51bca-fdb2-4dd7-bf5d-530d7be64c69\",\"type\":\"Selection\"},\"selection_policy\":{\"id\":\"7d333e59-ffd5-48fe-969f-96c79ebe4413\",\"type\":\"UnionRenderers\"}},\"id\":\"9cb1b641-3bf7-42ad-88f8-aaa4d4102b43\",\"type\":\"ColumnDataSource\"},{\"attributes\":{\"label\":{\"value\":\"American\"},\"renderers\":[{\"id\":\"5a265f80-374b-4be8-b0e4-665976e23219\",\"type\":\"GlyphRenderer\"}]},\"id\":\"36d4623c-cd7f-496e-bc2d-397380f296b0\",\"type\":\"LegendItem\"},{\"attributes\":{\"bottom_units\":\"screen\",\"fill_alpha\":{\"value\":0.5},\"fill_color\":{\"value\":\"lightgrey\"},\"left_units\":\"screen\",\"level\":\"overlay\",\"line_alpha\":{\"value\":1.0},\"line_color\":{\"value\":\"black\"},\"line_dash\":[4,4],\"line_width\":{\"value\":2},\"plot\":null,\"render_mode\":\"css\",\"right_units\":\"screen\",\"top_units\":\"screen\"},\"id\":\"576735d3-ec12-4084-8fac-e6859fdfbbc5\",\"type\":\"BoxAnnotation\"},{\"attributes\":{},\"id\":\"7c548afd-631a-49ea-97e2-75d2add6ae71\",\"type\":\"PanTool\"},{\"attributes\":{\"source\":{\"id\":\"34d8694a-3fad-4de8-9d0d-c2875a73fda0\",\"type\":\"ColumnDataSource\"}},\"id\":\"2aa87326-3b9c-4341-a681-ff9e3b145992\",\"type\":\"CDSView\"},{\"attributes\":{},\"id\":\"7f91120f-1433-403a-aa4f-a6e49fa5dc81\",\"type\":\"WheelZoomTool\"},{\"attributes\":{\"overlay\":{\"id\":\"576735d3-ec12-4084-8fac-e6859fdfbbc5\",\"type\":\"BoxAnnotation\"}},\"id\":\"2e81d21f-5b36-42c2-ab10-0df286f1eda0\",\"type\":\"BoxZoomTool\"},{\"attributes\":{},\"id\":\"45e47667-6f0a-4114-805b-044c38a3154c\",\"type\":\"UnionRenderers\"},{\"attributes\":{\"data_source\":{\"id\":\"9cb1b641-3bf7-42ad-88f8-aaa4d4102b43\",\"type\":\"ColumnDataSource\"},\"glyph\":{\"id\":\"af1cb875-7569-4701-9d77-75ca63208912\",\"type\":\"VBar\"},\"hover_glyph\":null,\"muted_glyph\":null,\"nonselection_glyph\":{\"id\":\"f24e38fe-621f-4b2b-b761-92c88e007c2a\",\"type\":\"VBar\"},\"selection_glyph\":null,\"view\":{\"id\":\"72b169ba-e409-4fa0-88dd-3281e69b4fbb\",\"type\":\"CDSView\"}},\"id\":\"5b79965b-4c17-4f5d-919b-5e7a46cf64e3\",\"type\":\"GlyphRenderer\"},{\"attributes\":{},\"id\":\"57d8bcc3-b641-445b-9c2b-8c8efc947337\",\"type\":\"Selection\"},{\"attributes\":{},\"id\":\"173bd8d1-6dfb-48f9-bc4b-39c62df3105e\",\"type\":\"SaveTool\"},{\"attributes\":{\"callback\":null,\"data\":{\"x\":[70,70,70,70,70,70,70,70,70,70,70,70,70,70,70,70,70,70,70,70,70,70,71,71,71,71,71,71,71,71,71,71,71,71,71,71,71,71,71,71,71,72,72,72,72,72,72,72,72,72,72,72,72,72,72,72,72,72,72,73,73,73,73,73,73,73,73,73,73,73,73,73,73,73,73,73,73,73,73,73,73,73,73,73,73,73,73,73,74,74,74,74,74,74,74,74,74,74,74,74,74,74,75,75,75,75,75,75,75,75,75,75,75,75,75,75,75,75,75,75,75,75,76,76,76,76,76,76,76,76,76,76,76,76,76,76,76,76,76,76,76,76,76,76,77,77,77,77,77,77,77,77,77,77,77,77,77,77,77,77,77,77,78,78,78,78,78,78,78,78,78,78,78,78,78,78,78,78,78,78,78,78,78,78,79,79,79,79,79,79,79,79,79,79,79,79,79,79,79,79,79,79,79,79,79,79,79,80,80,80,80,80,80,81,81,81,81,81,81,81,81,81,81,81,81,81,82,82,82,82,82,82,82,82,82,82,82,82,82,82,82,82,82,82,82],\"y\":{\"__ndarray__\":\"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\",\"dtype\":\"float64\",\"shape\":[245]}},\"selected\":{\"id\":\"170d01aa-f645-415d-b2a1-c7e895ae17bc\",\"type\":\"Selection\"},\"selection_policy\":{\"id\":\"fd05b7fa-a54b-4b34-9761-bac2c6493f34\",\"type\":\"UnionRenderers\"}},\"id\":\"34d8694a-3fad-4de8-9d0d-c2875a73fda0\",\"type\":\"ColumnDataSource\"},{\"attributes\":{},\"id\":\"284a78ea-c622-4b6e-8093-21c25e2cc2a4\",\"type\":\"ResetTool\"},{\"attributes\":{},\"id\":\"170d01aa-f645-415d-b2a1-c7e895ae17bc\",\"type\":\"Selection\"},{\"attributes\":{},\"id\":\"25e75f3b-5399-413e-9d20-4d212f00aa91\",\"type\":\"BasicTickFormatter\"},{\"attributes\":{},\"id\":\"fd05b7fa-a54b-4b34-9761-bac2c6493f34\",\"type\":\"UnionRenderers\"}],\"root_ids\":[\"ab065ef8-b888-4f73-84bb-e811bf573408\"]},\"title\":\"Bokeh Application\",\"version\":\"0.12.16\"}};\n",
       "  var render_items = [{\"docid\":\"f83c3a90-3921-425c-878f-11e77564e802\",\"elementid\":\"8347bede-331f-4f21-b846-f16d245fe372\",\"modelid\":\"ab065ef8-b888-4f73-84bb-e811bf573408\"}];\n",
       "  root.Bokeh.embed.embed_items_notebook(docs_json, render_items);\n",
       "\n",
       "  }\n",
       "  if (root.Bokeh !== undefined) {\n",
       "    embed_document(root);\n",
       "  } else {\n",
       "    var attempts = 0;\n",
       "    var timer = setInterval(function(root) {\n",
       "      if (root.Bokeh !== undefined) {\n",
       "        embed_document(root);\n",
       "        clearInterval(timer);\n",
       "      }\n",
       "      attempts++;\n",
       "      if (attempts > 100) {\n",
       "        console.log(\"Bokeh: ERROR: Unable to run BokehJS code because BokehJS library is missing\")\n",
       "        clearInterval(timer);\n",
       "      }\n",
       "    }, 10, root)\n",
       "  }\n",
       "})(window);"
      ],
      "application/vnd.bokehjs_exec.v0+json": ""
     },
     "metadata": {
      "application/vnd.bokehjs_exec.v0+json": {
       "id": "ab065ef8-b888-4f73-84bb-e811bf573408"
      }
     },
     "output_type": "display_data"
    }
   ],
   "source": [
    "p = figure(title = \"MPG by Year (Japan and US)\")\n",
    "p.vbar(x = years, bottom = avg-std, top = avg+std, width = 0.8,\n",
    "      fill_alpha = 0.2, line_color = None, legend = \"MPG 1 stddev\")\n",
    "#creating a vert bar at each year, which tell us bottom is mean - std and the top of the bar is mean + std\n",
    "\n",
    "p.circle(x=japanese['yr'], y=japanese['mpg'], size = 10, alpha = 0.5,\n",
    "        color = 'red', legend = 'Japanese')\n",
    "\n",
    "p.triangle(x = american['yr'], y = american['mpg'], size = 10, alpha = 0.3,\n",
    "          color = 'blue', legend = 'American')\n",
    "\n",
    "show(p)"
   ]
  },
  {
   "cell_type": "markdown",
   "metadata": {},
   "source": [
    "### DataFrame Plotting\n",
    "\n",
    "Here, we need to pass our data to the `ColumnDataSource` method, and call from here the columns of interest for a given plot.  Below, we use the `autompg` to display three different plots bsed on different variable comparisons within the data.  We can display these together using the `gridplot` argument.\n",
    "\n"
   ]
  },
  {
   "cell_type": "code",
   "execution_count": 13,
   "metadata": {},
   "outputs": [
    {
     "data": {
      "text/html": [
       "\n",
       "<div class=\"bk-root\">\n",
       "    <div class=\"bk-plotdiv\" id=\"8ac90e27-7aab-4571-a6cd-5ad408fba45a\"></div>\n",
       "</div>"
      ]
     },
     "metadata": {},
     "output_type": "display_data"
    },
    {
     "data": {
      "application/javascript": [
       "(function(root) {\n",
       "  function embed_document(root) {\n",
       "    \n",
       "  var docs_json = {\"dec23fd8-2269-40d9-a30d-4903099087a7\":{\"roots\":{\"references\":[{\"attributes\":{\"active_drag\":\"auto\",\"active_inspect\":\"auto\",\"active_scroll\":\"auto\",\"active_tap\":\"auto\",\"tools\":[{\"id\":\"cba6d287-e6fe-4e66-b236-6b6facf18876\",\"type\":\"PanTool\"},{\"id\":\"bc8469a2-ecff-44d7-8222-116fabc5bc2f\",\"type\":\"WheelZoomTool\"},{\"id\":\"6ea4c665-b6bd-4456-bb2a-a121dade85b6\",\"type\":\"BoxZoomTool\"},{\"id\":\"a32e64e5-7cd7-41ce-ab9d-3597d1458868\",\"type\":\"SaveTool\"},{\"id\":\"ec827301-af36-4388-891f-a079efc3b5fd\",\"type\":\"ResetTool\"},{\"id\":\"43ab57ee-1bd8-4051-b055-1690a2285b1b\",\"type\":\"HelpTool\"}]},\"id\":\"525a6c36-1a41-4928-b9e5-16368384be91\",\"type\":\"Toolbar\"},{\"attributes\":{\"bottom_units\":\"screen\",\"fill_alpha\":{\"value\":0.5},\"fill_color\":{\"value\":\"lightgrey\"},\"left_units\":\"screen\",\"level\":\"overlay\",\"line_alpha\":{\"value\":1.0},\"line_color\":{\"value\":\"black\"},\"line_dash\":[4,4],\"line_width\":{\"value\":2},\"plot\":null,\"render_mode\":\"css\",\"right_units\":\"screen\",\"top_units\":\"screen\"},\"id\":\"6fa91ef1-c1e4-4a18-a876-06be5c51e8e8\",\"type\":\"BoxAnnotation\"},{\"attributes\":{},\"id\":\"0f61a0b1-1242-4292-89ce-44c503afe355\",\"type\":\"PanTool\"},{\"attributes\":{\"formatter\":{\"id\":\"6b8be1f0-b0a3-4c97-889b-2a1adf0e643b\",\"type\":\"BasicTickFormatter\"},\"plot\":{\"id\":\"070b1e35-d5f0-4890-b76c-d66bd17fb151\",\"subtype\":\"Figure\",\"type\":\"Plot\"},\"ticker\":{\"id\":\"cd485e6a-fe29-4c22-aa42-87dadbc241e4\",\"type\":\"BasicTicker\"}},\"id\":\"daabdc1d-732c-47b6-a8fa-82cb22e6db36\",\"type\":\"LinearAxis\"},{\"attributes\":{},\"id\":\"9ed815f8-c22e-4752-8a4c-d7537af84c89\",\"type\":\"WheelZoomTool\"},{\"attributes\":{\"overlay\":{\"id\":\"6fa91ef1-c1e4-4a18-a876-06be5c51e8e8\",\"type\":\"BoxAnnotation\"}},\"id\":\"7ff37474-34e5-4137-a6a3-b088a00e089e\",\"type\":\"BoxZoomTool\"},{\"attributes\":{},\"id\":\"0fcce5d9-7b63-4239-92cd-c31ff664937a\",\"type\":\"SaveTool\"},{\"attributes\":{},\"id\":\"bcb1c9b5-91ab-4592-8554-b6694efb034f\",\"type\":\"ResetTool\"},{\"attributes\":{},\"id\":\"500d3aa4-9b78-4435-ab20-4279c31ea72e\",\"type\":\"HelpTool\"},{\"attributes\":{\"plot\":{\"id\":\"070b1e35-d5f0-4890-b76c-d66bd17fb151\",\"subtype\":\"Figure\",\"type\":\"Plot\"},\"ticker\":{\"id\":\"cd485e6a-fe29-4c22-aa42-87dadbc241e4\",\"type\":\"BasicTicker\"}},\"id\":\"71b7df64-007b-41f0-b18d-1058dbe5a29c\",\"type\":\"Grid\"},{\"attributes\":{\"callback\":null},\"id\":\"a4216e4c-ec2a-4a26-af88-8d166ad7c0ce\",\"type\":\"DataRange1d\"},{\"attributes\":{},\"id\":\"5903400d-0a3e-432d-94e2-59352218b85a\",\"type\":\"LinearScale\"},{\"attributes\":{},\"id\":\"cd485e6a-fe29-4c22-aa42-87dadbc241e4\",\"type\":\"BasicTicker\"},{\"attributes\":{\"formatter\":{\"id\":\"2f2c8508-2159-4434-8ab8-dd70c53d4eab\",\"type\":\"BasicTickFormatter\"},\"plot\":{\"id\":\"070b1e35-d5f0-4890-b76c-d66bd17fb151\",\"subtype\":\"Figure\",\"type\":\"Plot\"},\"ticker\":{\"id\":\"bd603cca-ee54-4a50-96c7-bc9ff3207737\",\"type\":\"BasicTicker\"}},\"id\":\"810db3ab-de56-4c47-8da8-5964cb5d84d3\",\"type\":\"LinearAxis\"},{\"attributes\":{},\"id\":\"bd603cca-ee54-4a50-96c7-bc9ff3207737\",\"type\":\"BasicTicker\"},{\"attributes\":{\"callback\":null},\"id\":\"a1762574-4ad5-47fc-acb1-aa55bb689d9c\",\"type\":\"DataRange1d\"},{\"attributes\":{\"fill_alpha\":{\"value\":0.1},\"fill_color\":{\"value\":\"#1f77b4\"},\"line_alpha\":{\"value\":0.1},\"line_color\":{\"value\":\"#1f77b4\"},\"x\":{\"field\":\"hp\"},\"y\":{\"field\":\"displ\"}},\"id\":\"431780a6-50f7-4641-a977-dfdf47ba017e\",\"type\":\"Circle\"},{\"attributes\":{\"dimension\":1,\"plot\":{\"id\":\"070b1e35-d5f0-4890-b76c-d66bd17fb151\",\"subtype\":\"Figure\",\"type\":\"Plot\"},\"ticker\":{\"id\":\"bd603cca-ee54-4a50-96c7-bc9ff3207737\",\"type\":\"BasicTicker\"}},\"id\":\"d5a31aec-d068-44bf-81cb-2b6c82c9dae3\",\"type\":\"Grid\"},{\"attributes\":{\"data_source\":{\"id\":\"18d0e618-9e25-4fde-878c-c4215431b60e\",\"type\":\"ColumnDataSource\"},\"glyph\":{\"id\":\"52657f63-a71b-48dd-805b-96d4d360f99f\",\"type\":\"Circle\"},\"hover_glyph\":null,\"muted_glyph\":null,\"nonselection_glyph\":{\"id\":\"431780a6-50f7-4641-a977-dfdf47ba017e\",\"type\":\"Circle\"},\"selection_glyph\":null,\"view\":{\"id\":\"b9883b76-9c9d-4ad5-8d7a-8270e97c1350\",\"type\":\"CDSView\"}},\"id\":\"5b3518e1-3622-4182-af0c-93b93360e433\",\"type\":\"GlyphRenderer\"},{\"attributes\":{\"below\":[{\"id\":\"daabdc1d-732c-47b6-a8fa-82cb22e6db36\",\"type\":\"LinearAxis\"}],\"left\":[{\"id\":\"810db3ab-de56-4c47-8da8-5964cb5d84d3\",\"type\":\"LinearAxis\"}],\"plot_height\":300,\"plot_width\":300,\"renderers\":[{\"id\":\"daabdc1d-732c-47b6-a8fa-82cb22e6db36\",\"type\":\"LinearAxis\"},{\"id\":\"71b7df64-007b-41f0-b18d-1058dbe5a29c\",\"type\":\"Grid\"},{\"id\":\"810db3ab-de56-4c47-8da8-5964cb5d84d3\",\"type\":\"LinearAxis\"},{\"id\":\"d5a31aec-d068-44bf-81cb-2b6c82c9dae3\",\"type\":\"Grid\"},{\"id\":\"95242439-d208-44a7-96e2-1f0b6b85eabd\",\"type\":\"BoxAnnotation\"},{\"id\":\"5b3518e1-3622-4182-af0c-93b93360e433\",\"type\":\"GlyphRenderer\"}],\"title\":{\"id\":\"c1a202d1-bdf0-4992-9057-464bbc73e08b\",\"type\":\"Title\"},\"toolbar\":{\"id\":\"525a6c36-1a41-4928-b9e5-16368384be91\",\"type\":\"Toolbar\"},\"toolbar_location\":null,\"x_range\":{\"id\":\"a4216e4c-ec2a-4a26-af88-8d166ad7c0ce\",\"type\":\"DataRange1d\"},\"x_scale\":{\"id\":\"5903400d-0a3e-432d-94e2-59352218b85a\",\"type\":\"LinearScale\"},\"y_range\":{\"id\":\"a1762574-4ad5-47fc-acb1-aa55bb689d9c\",\"type\":\"DataRange1d\"},\"y_scale\":{\"id\":\"b034ea85-667d-4ad2-b4d8-3bbc187e9beb\",\"type\":\"LinearScale\"}},\"id\":\"070b1e35-d5f0-4890-b76c-d66bd17fb151\",\"subtype\":\"Figure\",\"type\":\"Plot\"},{\"attributes\":{\"children\":[{\"id\":\"ffa0033c-dc54-489f-8e92-e86cb3f9f46c\",\"type\":\"ToolbarBox\"},{\"id\":\"e562df04-be2e-45e5-a297-81b00e8015c7\",\"type\":\"Column\"}]},\"id\":\"47a94930-9536-4460-8531-0274bc4e46a3\",\"type\":\"Column\"},{\"attributes\":{\"data_source\":{\"id\":\"18d0e618-9e25-4fde-878c-c4215431b60e\",\"type\":\"ColumnDataSource\"},\"glyph\":{\"id\":\"2bee74ba-77fd-4c08-87dc-28dfb1ce3e69\",\"type\":\"Circle\"},\"hover_glyph\":null,\"muted_glyph\":null,\"nonselection_glyph\":{\"id\":\"efc8718f-89ac-4e1f-990f-61f2c8c27ed1\",\"type\":\"Circle\"},\"selection_glyph\":null,\"view\":{\"id\":\"e5011c4f-f7a9-4a93-9bf5-3f868ff1038b\",\"type\":\"CDSView\"}},\"id\":\"4b6c5f6b-6131-4637-bd43-28e9b1549e68\",\"type\":\"GlyphRenderer\"},{\"attributes\":{\"bottom_units\":\"screen\",\"fill_alpha\":{\"value\":0.5},\"fill_color\":{\"value\":\"lightgrey\"},\"left_units\":\"screen\",\"level\":\"overlay\",\"line_alpha\":{\"value\":1.0},\"line_color\":{\"value\":\"black\"},\"line_dash\":[4,4],\"line_width\":{\"value\":2},\"plot\":null,\"render_mode\":\"css\",\"right_units\":\"screen\",\"top_units\":\"screen\"},\"id\":\"95242439-d208-44a7-96e2-1f0b6b85eabd\",\"type\":\"BoxAnnotation\"},{\"attributes\":{},\"id\":\"cba6d287-e6fe-4e66-b236-6b6facf18876\",\"type\":\"PanTool\"},{\"attributes\":{\"source\":{\"id\":\"18d0e618-9e25-4fde-878c-c4215431b60e\",\"type\":\"ColumnDataSource\"}},\"id\":\"b9883b76-9c9d-4ad5-8d7a-8270e97c1350\",\"type\":\"CDSView\"},{\"attributes\":{},\"id\":\"bc8469a2-ecff-44d7-8222-116fabc5bc2f\",\"type\":\"WheelZoomTool\"},{\"attributes\":{\"overlay\":{\"id\":\"95242439-d208-44a7-96e2-1f0b6b85eabd\",\"type\":\"BoxAnnotation\"}},\"id\":\"6ea4c665-b6bd-4456-bb2a-a121dade85b6\",\"type\":\"BoxZoomTool\"},{\"attributes\":{},\"id\":\"a32e64e5-7cd7-41ce-ab9d-3597d1458868\",\"type\":\"SaveTool\"},{\"attributes\":{},\"id\":\"ec827301-af36-4388-891f-a079efc3b5fd\",\"type\":\"ResetTool\"},{\"attributes\":{},\"id\":\"43ab57ee-1bd8-4051-b055-1690a2285b1b\",\"type\":\"HelpTool\"},{\"attributes\":{\"callback\":null},\"id\":\"328e9fa1-cf2d-43a7-aeeb-a3867110ad7e\",\"type\":\"DataRange1d\"},{\"attributes\":{\"plot\":null,\"text\":\"MPG vs. Displacement\"},\"id\":\"96de26f1-cc5a-4c12-a996-03dae11ca8db\",\"type\":\"Title\"},{\"attributes\":{\"fill_color\":{\"value\":\"green\"},\"line_color\":{\"value\":\"green\"},\"x\":{\"field\":\"hp\"},\"y\":{\"field\":\"displ\"}},\"id\":\"52657f63-a71b-48dd-805b-96d4d360f99f\",\"type\":\"Circle\"},{\"attributes\":{\"plot\":null,\"text\":\"HP vs. Displacement\"},\"id\":\"c1a202d1-bdf0-4992-9057-464bbc73e08b\",\"type\":\"Title\"},{\"attributes\":{\"active_drag\":\"auto\",\"active_inspect\":\"auto\",\"active_scroll\":\"auto\",\"active_tap\":\"auto\",\"tools\":[{\"id\":\"a07701f4-7b07-4c35-85fa-ceee59296458\",\"type\":\"PanTool\"},{\"id\":\"fdd6595b-b6e0-480a-bb77-628c3d692625\",\"type\":\"WheelZoomTool\"},{\"id\":\"de672174-b856-4a8d-8e7a-ba1446209e8a\",\"type\":\"BoxZoomTool\"},{\"id\":\"5510eb44-cab1-4943-bc72-5f5a9be8df2a\",\"type\":\"SaveTool\"},{\"id\":\"1155a36a-fcd5-4b03-ae68-972911d1f633\",\"type\":\"ResetTool\"},{\"id\":\"56d4e731-0cb4-43ff-947b-9be7619cb8d2\",\"type\":\"HelpTool\"}]},\"id\":\"01ba25f6-0292-4b3d-bd50-50a6f0d350c7\",\"type\":\"Toolbar\"},{\"attributes\":{\"plot\":{\"id\":\"57b5a6f7-c933-44d0-bd00-2a450fe7bb3b\",\"subtype\":\"Figure\",\"type\":\"Plot\"},\"ticker\":{\"id\":\"237da9ed-5c00-4d1a-bb29-c9588c0ad785\",\"type\":\"BasicTicker\"}},\"id\":\"5af460f7-fe0f-4c20-abbf-eaee0be0dc28\",\"type\":\"Grid\"},{\"attributes\":{\"fill_alpha\":{\"value\":0.1},\"fill_color\":{\"value\":\"#1f77b4\"},\"line_alpha\":{\"value\":0.1},\"line_color\":{\"value\":\"#1f77b4\"},\"x\":{\"field\":\"yr\"},\"y\":{\"field\":\"mpg\"}},\"id\":\"fb7fd6a9-8dc7-48c6-9949-41f4796538aa\",\"type\":\"Circle\"},{\"attributes\":{},\"id\":\"11af80b9-252c-4076-b04b-66de36e9c09c\",\"type\":\"LinearScale\"},{\"attributes\":{\"formatter\":{\"id\":\"d19e6f1d-95e9-4b66-907b-0ca7121fba12\",\"type\":\"BasicTickFormatter\"},\"plot\":{\"id\":\"6af2d626-7579-456a-bfed-76ac60cde0b1\",\"subtype\":\"Figure\",\"type\":\"Plot\"},\"ticker\":{\"id\":\"7d1124e6-6587-4610-8fcb-79457e2ed9b9\",\"type\":\"BasicTicker\"}},\"id\":\"96621900-9eea-4c89-b46b-7f6b50d14b3a\",\"type\":\"LinearAxis\"},{\"attributes\":{\"fill_alpha\":{\"value\":0.1},\"fill_color\":{\"value\":\"#1f77b4\"},\"line_alpha\":{\"value\":0.1},\"line_color\":{\"value\":\"#1f77b4\"},\"size\":{\"field\":\"cyl\",\"units\":\"screen\"},\"x\":{\"field\":\"mpg\"},\"y\":{\"field\":\"displ\"}},\"id\":\"efc8718f-89ac-4e1f-990f-61f2c8c27ed1\",\"type\":\"Circle\"},{\"attributes\":{},\"id\":\"8a95440c-e5ec-444e-a3cc-198eddb2f25f\",\"type\":\"LinearScale\"},{\"attributes\":{\"formatter\":{\"id\":\"096650ad-9c64-4d15-bf59-0b65e71e1c7b\",\"type\":\"BasicTickFormatter\"},\"plot\":{\"id\":\"6af2d626-7579-456a-bfed-76ac60cde0b1\",\"subtype\":\"Figure\",\"type\":\"Plot\"},\"ticker\":{\"id\":\"147843d7-a1b2-40f8-8ad3-d247f2113f2d\",\"type\":\"BasicTicker\"}},\"id\":\"172cce2d-a833-478b-85f7-6adb34caeafb\",\"type\":\"LinearAxis\"},{\"attributes\":{\"callback\":null},\"id\":\"97b716fa-9d11-4540-8d02-9e5dbf0f020c\",\"type\":\"DataRange1d\"},{\"attributes\":{\"formatter\":{\"id\":\"9760e642-f525-41cd-8afa-ed3213b79b98\",\"type\":\"BasicTickFormatter\"},\"plot\":{\"id\":\"57b5a6f7-c933-44d0-bd00-2a450fe7bb3b\",\"subtype\":\"Figure\",\"type\":\"Plot\"},\"ticker\":{\"id\":\"237da9ed-5c00-4d1a-bb29-c9588c0ad785\",\"type\":\"BasicTicker\"}},\"id\":\"3b6922fc-6580-4a79-9554-45e5bd8db35c\",\"type\":\"LinearAxis\"},{\"attributes\":{\"fill_color\":{\"value\":\"blue\"},\"line_color\":{\"value\":\"blue\"},\"x\":{\"field\":\"yr\"},\"y\":{\"field\":\"mpg\"}},\"id\":\"6c926994-2e98-4780-bc30-2b4d32e12e0b\",\"type\":\"Circle\"},{\"attributes\":{\"data_source\":{\"id\":\"18d0e618-9e25-4fde-878c-c4215431b60e\",\"type\":\"ColumnDataSource\"},\"glyph\":{\"id\":\"6c926994-2e98-4780-bc30-2b4d32e12e0b\",\"type\":\"Circle\"},\"hover_glyph\":null,\"muted_glyph\":null,\"nonselection_glyph\":{\"id\":\"fb7fd6a9-8dc7-48c6-9949-41f4796538aa\",\"type\":\"Circle\"},\"selection_glyph\":null,\"view\":{\"id\":\"95b880f7-0c4f-4bd2-abc4-0c2493ff77bb\",\"type\":\"CDSView\"}},\"id\":\"ac1d4307-1516-4880-b4b8-8b0c6b57370d\",\"type\":\"GlyphRenderer\"},{\"attributes\":{},\"id\":\"237da9ed-5c00-4d1a-bb29-c9588c0ad785\",\"type\":\"BasicTicker\"},{\"attributes\":{\"formatter\":{\"id\":\"cc864b2a-168f-4255-a0f6-f07844ad26fe\",\"type\":\"BasicTickFormatter\"},\"plot\":{\"id\":\"57b5a6f7-c933-44d0-bd00-2a450fe7bb3b\",\"subtype\":\"Figure\",\"type\":\"Plot\"},\"ticker\":{\"id\":\"e8b5b711-7048-434c-b0a1-622bf20c319a\",\"type\":\"BasicTicker\"}},\"id\":\"46e0ac4b-4d46-42c9-8da0-50ba3116f7fb\",\"type\":\"LinearAxis\"},{\"attributes\":{},\"id\":\"e8b5b711-7048-434c-b0a1-622bf20c319a\",\"type\":\"BasicTicker\"},{\"attributes\":{\"dimension\":1,\"plot\":{\"id\":\"57b5a6f7-c933-44d0-bd00-2a450fe7bb3b\",\"subtype\":\"Figure\",\"type\":\"Plot\"},\"ticker\":{\"id\":\"e8b5b711-7048-434c-b0a1-622bf20c319a\",\"type\":\"BasicTicker\"}},\"id\":\"37ff3d3c-abc3-4d7a-8694-316ef57849ea\",\"type\":\"Grid\"},{\"attributes\":{\"children\":[{\"id\":\"6af2d626-7579-456a-bfed-76ac60cde0b1\",\"subtype\":\"Figure\",\"type\":\"Plot\"},{\"id\":\"070b1e35-d5f0-4890-b76c-d66bd17fb151\",\"subtype\":\"Figure\",\"type\":\"Plot\"},{\"id\":\"57b5a6f7-c933-44d0-bd00-2a450fe7bb3b\",\"subtype\":\"Figure\",\"type\":\"Plot\"}]},\"id\":\"dcd30f5a-172f-4b47-8e45-f8e4beee1558\",\"type\":\"Row\"},{\"attributes\":{\"fill_color\":{\"value\":null},\"line_color\":{\"value\":\"red\"},\"size\":{\"field\":\"cyl\",\"units\":\"screen\"},\"x\":{\"field\":\"mpg\"},\"y\":{\"field\":\"displ\"}},\"id\":\"2bee74ba-77fd-4c08-87dc-28dfb1ce3e69\",\"type\":\"Circle\"},{\"attributes\":{\"children\":[{\"id\":\"dcd30f5a-172f-4b47-8e45-f8e4beee1558\",\"type\":\"Row\"}]},\"id\":\"e562df04-be2e-45e5-a297-81b00e8015c7\",\"type\":\"Column\"},{\"attributes\":{\"dimension\":1,\"plot\":{\"id\":\"6af2d626-7579-456a-bfed-76ac60cde0b1\",\"subtype\":\"Figure\",\"type\":\"Plot\"},\"ticker\":{\"id\":\"147843d7-a1b2-40f8-8ad3-d247f2113f2d\",\"type\":\"BasicTicker\"}},\"id\":\"c3cd11b4-5909-42d0-a85d-1e4b5b48cf64\",\"type\":\"Grid\"},{\"attributes\":{\"bottom_units\":\"screen\",\"fill_alpha\":{\"value\":0.5},\"fill_color\":{\"value\":\"lightgrey\"},\"left_units\":\"screen\",\"level\":\"overlay\",\"line_alpha\":{\"value\":1.0},\"line_color\":{\"value\":\"black\"},\"line_dash\":[4,4],\"line_width\":{\"value\":2},\"plot\":null,\"render_mode\":\"css\",\"right_units\":\"screen\",\"top_units\":\"screen\"},\"id\":\"1ed33f2d-40bb-45dd-8ac3-4bdbb5b9cfdd\",\"type\":\"BoxAnnotation\"},{\"attributes\":{},\"id\":\"cc864b2a-168f-4255-a0f6-f07844ad26fe\",\"type\":\"BasicTickFormatter\"},{\"attributes\":{},\"id\":\"a07701f4-7b07-4c35-85fa-ceee59296458\",\"type\":\"PanTool\"},{\"attributes\":{\"source\":{\"id\":\"18d0e618-9e25-4fde-878c-c4215431b60e\",\"type\":\"ColumnDataSource\"}},\"id\":\"e5011c4f-f7a9-4a93-9bf5-3f868ff1038b\",\"type\":\"CDSView\"},{\"attributes\":{},\"id\":\"fdd6595b-b6e0-480a-bb77-628c3d692625\",\"type\":\"WheelZoomTool\"},{\"attributes\":{\"overlay\":{\"id\":\"1ed33f2d-40bb-45dd-8ac3-4bdbb5b9cfdd\",\"type\":\"BoxAnnotation\"}},\"id\":\"de672174-b856-4a8d-8e7a-ba1446209e8a\",\"type\":\"BoxZoomTool\"},{\"attributes\":{},\"id\":\"5510eb44-cab1-4943-bc72-5f5a9be8df2a\",\"type\":\"SaveTool\"},{\"attributes\":{},\"id\":\"1155a36a-fcd5-4b03-ae68-972911d1f633\",\"type\":\"ResetTool\"},{\"attributes\":{},\"id\":\"56d4e731-0cb4-43ff-947b-9be7619cb8d2\",\"type\":\"HelpTool\"},{\"attributes\":{\"plot\":{\"id\":\"6af2d626-7579-456a-bfed-76ac60cde0b1\",\"subtype\":\"Figure\",\"type\":\"Plot\"},\"ticker\":{\"id\":\"7d1124e6-6587-4610-8fcb-79457e2ed9b9\",\"type\":\"BasicTicker\"}},\"id\":\"e8fe8f80-94d8-4fa6-a7a0-1c84a1b18a23\",\"type\":\"Grid\"},{\"attributes\":{},\"id\":\"acffe74c-5480-44c2-b919-a47d2fdc95ea\",\"type\":\"Selection\"},{\"attributes\":{},\"id\":\"7d1124e6-6587-4610-8fcb-79457e2ed9b9\",\"type\":\"BasicTicker\"},{\"attributes\":{},\"id\":\"779e29cb-5488-4595-a2c2-44f06c92405d\",\"type\":\"LinearScale\"},{\"attributes\":{},\"id\":\"096650ad-9c64-4d15-bf59-0b65e71e1c7b\",\"type\":\"BasicTickFormatter\"},{\"attributes\":{},\"id\":\"d19e6f1d-95e9-4b66-907b-0ca7121fba12\",\"type\":\"BasicTickFormatter\"},{\"attributes\":{},\"id\":\"6732989c-8d72-4aa6-b862-bff8f67e21c4\",\"type\":\"LinearScale\"},{\"attributes\":{},\"id\":\"2f2c8508-2159-4434-8ab8-dd70c53d4eab\",\"type\":\"BasicTickFormatter\"},{\"attributes\":{\"callback\":null},\"id\":\"1b2d2069-3e77-4ded-83a1-b2877cf7fb40\",\"type\":\"DataRange1d\"},{\"attributes\":{\"tools\":[{\"id\":\"0f61a0b1-1242-4292-89ce-44c503afe355\",\"type\":\"PanTool\"},{\"id\":\"9ed815f8-c22e-4752-8a4c-d7537af84c89\",\"type\":\"WheelZoomTool\"},{\"id\":\"7ff37474-34e5-4137-a6a3-b088a00e089e\",\"type\":\"BoxZoomTool\"},{\"id\":\"0fcce5d9-7b63-4239-92cd-c31ff664937a\",\"type\":\"SaveTool\"},{\"id\":\"bcb1c9b5-91ab-4592-8554-b6694efb034f\",\"type\":\"ResetTool\"},{\"id\":\"500d3aa4-9b78-4435-ab20-4279c31ea72e\",\"type\":\"HelpTool\"},{\"id\":\"cba6d287-e6fe-4e66-b236-6b6facf18876\",\"type\":\"PanTool\"},{\"id\":\"bc8469a2-ecff-44d7-8222-116fabc5bc2f\",\"type\":\"WheelZoomTool\"},{\"id\":\"6ea4c665-b6bd-4456-bb2a-a121dade85b6\",\"type\":\"BoxZoomTool\"},{\"id\":\"a32e64e5-7cd7-41ce-ab9d-3597d1458868\",\"type\":\"SaveTool\"},{\"id\":\"ec827301-af36-4388-891f-a079efc3b5fd\",\"type\":\"ResetTool\"},{\"id\":\"43ab57ee-1bd8-4051-b055-1690a2285b1b\",\"type\":\"HelpTool\"},{\"id\":\"a07701f4-7b07-4c35-85fa-ceee59296458\",\"type\":\"PanTool\"},{\"id\":\"fdd6595b-b6e0-480a-bb77-628c3d692625\",\"type\":\"WheelZoomTool\"},{\"id\":\"de672174-b856-4a8d-8e7a-ba1446209e8a\",\"type\":\"BoxZoomTool\"},{\"id\":\"5510eb44-cab1-4943-bc72-5f5a9be8df2a\",\"type\":\"SaveTool\"},{\"id\":\"1155a36a-fcd5-4b03-ae68-972911d1f633\",\"type\":\"ResetTool\"},{\"id\":\"56d4e731-0cb4-43ff-947b-9be7619cb8d2\",\"type\":\"HelpTool\"}]},\"id\":\"e30bd642-faed-402e-98d7-517ec28f03ea\",\"type\":\"ProxyToolbar\"},{\"attributes\":{},\"id\":\"147843d7-a1b2-40f8-8ad3-d247f2113f2d\",\"type\":\"BasicTicker\"},{\"attributes\":{\"below\":[{\"id\":\"3b6922fc-6580-4a79-9554-45e5bd8db35c\",\"type\":\"LinearAxis\"}],\"left\":[{\"id\":\"46e0ac4b-4d46-42c9-8da0-50ba3116f7fb\",\"type\":\"LinearAxis\"}],\"plot_height\":300,\"plot_width\":300,\"renderers\":[{\"id\":\"3b6922fc-6580-4a79-9554-45e5bd8db35c\",\"type\":\"LinearAxis\"},{\"id\":\"5af460f7-fe0f-4c20-abbf-eaee0be0dc28\",\"type\":\"Grid\"},{\"id\":\"46e0ac4b-4d46-42c9-8da0-50ba3116f7fb\",\"type\":\"LinearAxis\"},{\"id\":\"37ff3d3c-abc3-4d7a-8694-316ef57849ea\",\"type\":\"Grid\"},{\"id\":\"1ed33f2d-40bb-45dd-8ac3-4bdbb5b9cfdd\",\"type\":\"BoxAnnotation\"},{\"id\":\"4b6c5f6b-6131-4637-bd43-28e9b1549e68\",\"type\":\"GlyphRenderer\"}],\"title\":{\"id\":\"96de26f1-cc5a-4c12-a996-03dae11ca8db\",\"type\":\"Title\"},\"toolbar\":{\"id\":\"01ba25f6-0292-4b3d-bd50-50a6f0d350c7\",\"type\":\"Toolbar\"},\"toolbar_location\":null,\"x_range\":{\"id\":\"328e9fa1-cf2d-43a7-aeeb-a3867110ad7e\",\"type\":\"DataRange1d\"},\"x_scale\":{\"id\":\"11af80b9-252c-4076-b04b-66de36e9c09c\",\"type\":\"LinearScale\"},\"y_range\":{\"id\":\"97b716fa-9d11-4540-8d02-9e5dbf0f020c\",\"type\":\"DataRange1d\"},\"y_scale\":{\"id\":\"8a95440c-e5ec-444e-a3cc-198eddb2f25f\",\"type\":\"LinearScale\"}},\"id\":\"57b5a6f7-c933-44d0-bd00-2a450fe7bb3b\",\"subtype\":\"Figure\",\"type\":\"Plot\"},{\"attributes\":{},\"id\":\"ba57dd03-f7b6-4d21-8374-e940ce4e1932\",\"type\":\"UnionRenderers\"},{\"attributes\":{},\"id\":\"b034ea85-667d-4ad2-b4d8-3bbc187e9beb\",\"type\":\"LinearScale\"},{\"attributes\":{},\"id\":\"6b8be1f0-b0a3-4c97-889b-2a1adf0e643b\",\"type\":\"BasicTickFormatter\"},{\"attributes\":{\"toolbar\":{\"id\":\"e30bd642-faed-402e-98d7-517ec28f03ea\",\"type\":\"ProxyToolbar\"},\"toolbar_location\":\"above\"},\"id\":\"ffa0033c-dc54-489f-8e92-e86cb3f9f46c\",\"type\":\"ToolbarBox\"},{\"attributes\":{\"active_drag\":\"auto\",\"active_inspect\":\"auto\",\"active_scroll\":\"auto\",\"active_tap\":\"auto\",\"tools\":[{\"id\":\"0f61a0b1-1242-4292-89ce-44c503afe355\",\"type\":\"PanTool\"},{\"id\":\"9ed815f8-c22e-4752-8a4c-d7537af84c89\",\"type\":\"WheelZoomTool\"},{\"id\":\"7ff37474-34e5-4137-a6a3-b088a00e089e\",\"type\":\"BoxZoomTool\"},{\"id\":\"0fcce5d9-7b63-4239-92cd-c31ff664937a\",\"type\":\"SaveTool\"},{\"id\":\"bcb1c9b5-91ab-4592-8554-b6694efb034f\",\"type\":\"ResetTool\"},{\"id\":\"500d3aa4-9b78-4435-ab20-4279c31ea72e\",\"type\":\"HelpTool\"}]},\"id\":\"a5dfe53c-5148-491a-9774-2bf5273a3771\",\"type\":\"Toolbar\"},{\"attributes\":{\"callback\":null},\"id\":\"38caf3e9-836a-4999-9e6f-97b6f0392152\",\"type\":\"DataRange1d\"},{\"attributes\":{\"callback\":null,\"data\":{\"accel\":{\"__ndarray__\":\"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\",\"dtype\":\"float64\",\"shape\":[392]},\"cyl\":[8,8,8,8,8,8,8,8,8,8,8,8,8,8,4,6,6,6,4,4,4,4,4,4,6,8,8,8,8,4,4,4,6,6,6,6,6,8,8,8,8,8,8,8,6,4,6,6,4,4,4,4,4,4,4,4,4,4,4,4,4,8,8,8,8,8,8,8,8,8,3,8,8,8,8,4,4,4,4,4,4,4,4,4,8,8,8,8,8,8,8,8,8,8,8,8,6,6,6,6,6,4,8,8,8,8,6,4,4,4,3,4,6,4,8,8,4,4,4,4,8,4,6,8,6,6,6,4,4,4,4,6,6,6,8,8,8,8,8,4,4,4,4,4,4,4,4,4,4,4,6,6,6,6,8,8,8,8,6,6,6,6,6,8,8,4,4,6,4,4,4,4,6,4,6,4,4,4,4,4,4,4,4,4,4,8,8,8,8,6,6,6,6,4,4,4,4,6,6,6,6,4,4,4,4,4,8,4,6,6,8,8,8,8,4,4,4,4,4,8,8,8,8,6,6,6,6,8,8,8,8,4,4,4,4,4,4,4,4,6,4,3,4,4,4,4,4,8,8,8,6,6,6,4,6,6,6,6,6,6,8,6,8,8,4,4,4,4,4,4,4,4,5,6,4,6,4,4,6,6,4,6,6,8,8,8,8,8,8,8,8,4,4,4,4,5,8,4,8,4,4,4,4,4,6,6,4,4,4,4,4,4,4,4,6,4,4,4,4,4,4,4,4,4,4,5,4,4,4,4,6,3,4,4,4,4,4,6,4,4,4,4,4,4,4,4,4,4,4,4,4,4,4,4,4,6,6,6,6,8,6,6,4,4,4,4,4,4,4,4,4,4,4,4,4,4,4,4,4,4,6,6,4,6,4,4,4,4,4,4,4,4],\"displ\":{\"__ndarray__\":\"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\",\"dtype\":\"float64\",\"shape\":[392]},\"hp\":[130,165,150,150,140,198,220,215,225,190,170,160,150,225,95,95,97,85,88,46,87,90,95,113,90,215,200,210,193,88,90,95,100,105,100,88,100,165,175,153,150,180,170,175,110,72,100,88,86,90,70,76,65,69,60,70,95,80,54,90,86,165,175,150,153,150,208,155,160,190,97,150,130,140,150,112,76,87,69,86,92,97,80,88,175,150,145,137,150,198,150,158,150,215,225,175,105,100,100,88,95,46,150,167,170,180,100,88,72,94,90,85,107,90,145,230,49,75,91,112,150,110,122,180,95,100,100,67,80,65,75,100,110,105,140,150,150,140,150,83,67,78,52,61,75,75,75,97,93,67,95,105,72,72,170,145,150,148,110,105,110,95,110,110,129,75,83,100,78,96,71,97,97,70,90,95,88,98,115,53,86,81,92,79,83,140,150,120,152,100,105,81,90,52,60,70,53,100,78,110,95,71,70,75,72,102,150,88,108,120,180,145,130,150,68,80,58,96,70,145,110,145,130,110,105,100,98,180,170,190,149,78,88,75,89,63,83,67,78,97,110,110,48,66,52,70,60,110,140,139,105,95,85,88,100,90,105,85,110,120,145,165,139,140,68,95,97,75,95,105,85,97,103,125,115,133,71,68,115,85,88,90,110,130,129,138,135,155,142,125,150,71,65,80,80,77,125,71,90,70,70,65,69,90,115,115,90,76,60,70,65,90,88,90,90,78,90,75,92,75,65,105,65,48,48,67,67,67,67,62,132,100,88,72,84,84,92,110,84,58,64,60,67,65,62,68,63,65,65,74,75,75,100,74,80,76,116,120,110,105,88,85,88,88,88,85,84,90,92,74,68,68,63,70,88,75,70,67,67,67,110,85,92,112,96,84,90,86,52,84,79,82],\"index\":[0,1,2,3,4,5,6,7,8,9,10,11,12,13,14,15,16,17,18,19,20,21,22,23,24,25,26,27,28,29,30,31,32,33,34,35,36,37,38,39,40,41,42,43,44,45,46,47,48,49,50,51,52,53,54,55,56,57,58,59,60,61,62,63,64,65,66,67,68,69,70,71,72,73,74,75,76,77,78,79,80,81,82,83,84,85,86,87,88,89,90,91,92,93,94,95,96,97,98,99,100,101,102,103,104,105,106,107,108,109,110,111,112,113,114,115,116,117,118,119,120,121,122,123,124,125,126,127,128,129,130,131,132,133,134,135,136,137,138,139,140,141,142,143,144,145,146,147,148,149,150,151,152,153,154,155,156,157,158,159,160,161,162,163,164,165,166,167,168,169,170,171,172,173,174,175,176,177,178,179,180,181,182,183,184,185,186,187,188,189,190,191,192,193,194,195,196,197,198,199,200,201,202,203,204,205,206,207,208,209,210,211,212,213,214,215,216,217,218,219,220,221,222,223,224,225,226,227,228,229,230,231,232,233,234,235,236,237,238,239,240,241,242,243,244,245,246,247,248,249,250,251,252,253,254,255,256,257,258,259,260,261,262,263,264,265,266,267,268,269,270,271,272,273,274,275,276,277,278,279,280,281,282,283,284,285,286,287,288,289,290,291,292,293,294,295,296,297,298,299,300,301,302,303,304,305,306,307,308,309,310,311,312,313,314,315,316,317,318,319,320,321,322,323,324,325,326,327,328,329,330,331,332,333,334,335,336,337,338,339,340,341,342,343,344,345,346,347,348,349,350,351,352,353,354,355,356,357,358,359,360,361,362,363,364,365,366,367,368,369,370,371,372,373,374,375,376,377,378,379,380,381,382,383,384,385,386,387,388,389,390,391],\"mpg\":{\"__ndarray__\":\"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\",\"dtype\":\"float64\",\"shape\":[392]},\"name\":[\"chevrolet chevelle malibu\",\"buick skylark 320\",\"plymouth satellite\",\"amc rebel sst\",\"ford torino\",\"ford galaxie 500\",\"chevrolet impala\",\"plymouth fury iii\",\"pontiac catalina\",\"amc ambassador dpl\",\"dodge challenger se\",\"plymouth 'cuda 340\",\"chevrolet monte carlo\",\"buick estate wagon (sw)\",\"toyota corona mark ii\",\"plymouth duster\",\"amc hornet\",\"ford maverick\",\"datsun pl510\",\"volkswagen 1131 deluxe sedan\",\"peugeot 504\",\"audi 100 ls\",\"saab 99e\",\"bmw 2002\",\"amc gremlin\",\"ford f250\",\"chevy c20\",\"dodge d200\",\"hi 1200d\",\"datsun pl510\",\"chevrolet vega 2300\",\"toyota corona\",\"amc gremlin\",\"plymouth satellite custom\",\"chevrolet chevelle malibu\",\"ford torino 500\",\"amc matador\",\"chevrolet impala\",\"pontiac catalina brougham\",\"ford galaxie 500\",\"plymouth fury iii\",\"dodge monaco (sw)\",\"ford country squire (sw)\",\"pontiac safari (sw)\",\"amc hornet sportabout (sw)\",\"chevrolet vega (sw)\",\"pontiac firebird\",\"ford mustang\",\"mercury capri 2000\",\"opel 1900\",\"peugeot 304\",\"fiat 124b\",\"toyota corolla 1200\",\"datsun 1200\",\"volkswagen model 111\",\"plymouth cricket\",\"toyota corona hardtop\",\"dodge colt hardtop\",\"volkswagen type 3\",\"chevrolet vega\",\"ford pinto runabout\",\"chevrolet impala\",\"pontiac catalina\",\"plymouth fury iii\",\"ford galaxie 500\",\"amc ambassador sst\",\"mercury marquis\",\"buick lesabre custom\",\"oldsmobile delta 88 royale\",\"chrysler newport royal\",\"mazda rx2 coupe\",\"amc matador (sw)\",\"chevrolet chevelle concours (sw)\",\"ford gran torino (sw)\",\"plymouth satellite custom (sw)\",\"volvo 145e (sw)\",\"volkswagen 411 (sw)\",\"peugeot 504 (sw)\",\"renault 12 (sw)\",\"ford pinto (sw)\",\"datsun 510 (sw)\",\"toyouta corona mark ii (sw)\",\"dodge colt (sw)\",\"toyota corolla 1600 (sw)\",\"buick century 350\",\"amc matador\",\"chevrolet malibu\",\"ford gran torino\",\"dodge coronet custom\",\"mercury marquis brougham\",\"chevrolet caprice classic\",\"ford ltd\",\"plymouth fury gran sedan\",\"chrysler new yorker brougham\",\"buick electra 225 custom\",\"amc ambassador brougham\",\"plymouth valiant\",\"chevrolet nova custom\",\"amc hornet\",\"ford maverick\",\"plymouth duster\",\"volkswagen super beetle\",\"chevrolet impala\",\"ford country\",\"plymouth custom suburb\",\"oldsmobile vista cruiser\",\"amc gremlin\",\"toyota carina\",\"chevrolet vega\",\"datsun 610\",\"maxda rx3\",\"ford pinto\",\"mercury capri v6\",\"fiat 124 sport coupe\",\"chevrolet monte carlo s\",\"pontiac grand prix\",\"fiat 128\",\"opel manta\",\"audi 100ls\",\"volvo 144ea\",\"dodge dart custom\",\"saab 99le\",\"toyota mark ii\",\"oldsmobile omega\",\"plymouth duster\",\"amc hornet\",\"chevrolet nova\",\"datsun b210\",\"ford pinto\",\"toyota corolla 1200\",\"chevrolet vega\",\"chevrolet chevelle malibu classic\",\"amc matador\",\"plymouth satellite sebring\",\"ford gran torino\",\"buick century luxus (sw)\",\"dodge coronet custom (sw)\",\"ford gran torino (sw)\",\"amc matador (sw)\",\"audi fox\",\"volkswagen dasher\",\"opel manta\",\"toyota corona\",\"datsun 710\",\"dodge colt\",\"fiat 128\",\"fiat 124 tc\",\"honda civic\",\"subaru\",\"fiat x1.9\",\"plymouth valiant custom\",\"chevrolet nova\",\"mercury monarch\",\"ford maverick\",\"pontiac catalina\",\"chevrolet bel air\",\"plymouth grand fury\",\"ford ltd\",\"buick century\",\"chevroelt chevelle malibu\",\"amc matador\",\"plymouth fury\",\"buick skyhawk\",\"chevrolet monza 2+2\",\"ford mustang ii\",\"toyota corolla\",\"ford pinto\",\"amc gremlin\",\"pontiac astro\",\"toyota corona\",\"volkswagen dasher\",\"datsun 710\",\"ford pinto\",\"volkswagen rabbit\",\"amc pacer\",\"audi 100ls\",\"peugeot 504\",\"volvo 244dl\",\"saab 99le\",\"honda civic cvcc\",\"fiat 131\",\"opel 1900\",\"capri ii\",\"dodge colt\",\"renault 12tl\",\"chevrolet chevelle malibu classic\",\"dodge coronet brougham\",\"amc matador\",\"ford gran torino\",\"plymouth valiant\",\"chevrolet nova\",\"ford maverick\",\"amc hornet\",\"chevrolet chevette\",\"chevrolet woody\",\"vw rabbit\",\"honda civic\",\"dodge aspen se\",\"ford granada ghia\",\"pontiac ventura sj\",\"amc pacer d/l\",\"volkswagen rabbit\",\"datsun b-210\",\"toyota corolla\",\"ford pinto\",\"volvo 245\",\"plymouth volare premier v8\",\"peugeot 504\",\"toyota mark ii\",\"mercedes-benz 280s\",\"cadillac seville\",\"chevy c10\",\"ford f108\",\"dodge d100\",\"honda accord cvcc\",\"buick opel isuzu deluxe\",\"renault 5 gtl\",\"plymouth arrow gs\",\"datsun f-10 hatchback\",\"chevrolet caprice classic\",\"oldsmobile cutlass supreme\",\"dodge monaco brougham\",\"mercury cougar brougham\",\"chevrolet concours\",\"buick skylark\",\"plymouth volare custom\",\"ford granada\",\"pontiac grand prix lj\",\"chevrolet monte carlo landau\",\"chrysler cordoba\",\"ford thunderbird\",\"volkswagen rabbit custom\",\"pontiac sunbird coupe\",\"toyota corolla liftback\",\"ford mustang ii 2+2\",\"chevrolet chevette\",\"dodge colt m/m\",\"subaru dl\",\"volkswagen dasher\",\"datsun 810\",\"bmw 320i\",\"mazda rx-4\",\"volkswagen rabbit custom diesel\",\"ford fiesta\",\"mazda glc deluxe\",\"datsun b210 gx\",\"honda civic cvcc\",\"oldsmobile cutlass salon brougham\",\"dodge diplomat\",\"mercury monarch ghia\",\"pontiac phoenix lj\",\"chevrolet malibu\",\"ford fairmont (auto)\",\"ford fairmont (man)\",\"plymouth volare\",\"amc concord\",\"buick century special\",\"mercury zephyr\",\"dodge aspen\",\"amc concord d/l\",\"chevrolet monte carlo landau\",\"buick regal sport coupe (turbo)\",\"ford futura\",\"dodge magnum xe\",\"chevrolet chevette\",\"toyota corona\",\"datsun 510\",\"dodge omni\",\"toyota celica gt liftback\",\"plymouth sapporo\",\"oldsmobile starfire sx\",\"datsun 200-sx\",\"audi 5000\",\"volvo 264gl\",\"saab 99gle\",\"peugeot 604sl\",\"volkswagen scirocco\",\"honda accord lx\",\"pontiac lemans v6\",\"mercury zephyr 6\",\"ford fairmont 4\",\"amc concord dl 6\",\"dodge aspen 6\",\"chevrolet caprice classic\",\"ford ltd landau\",\"mercury grand marquis\",\"dodge st. regis\",\"buick estate wagon (sw)\",\"ford country squire (sw)\",\"chevrolet malibu classic (sw)\",\"chrysler lebaron town @ country (sw)\",\"vw rabbit custom\",\"maxda glc deluxe\",\"dodge colt hatchback custom\",\"amc spirit dl\",\"mercedes benz 300d\",\"cadillac eldorado\",\"peugeot 504\",\"oldsmobile cutlass salon brougham\",\"plymouth horizon\",\"plymouth horizon tc3\",\"datsun 210\",\"fiat strada custom\",\"buick skylark limited\",\"chevrolet citation\",\"oldsmobile omega brougham\",\"pontiac phoenix\",\"vw rabbit\",\"toyota corolla tercel\",\"chevrolet chevette\",\"datsun 310\",\"chevrolet citation\",\"ford fairmont\",\"amc concord\",\"dodge aspen\",\"audi 4000\",\"toyota corona liftback\",\"mazda 626\",\"datsun 510 hatchback\",\"toyota corolla\",\"mazda glc\",\"dodge colt\",\"datsun 210\",\"vw rabbit c (diesel)\",\"vw dasher (diesel)\",\"audi 5000s (diesel)\",\"mercedes-benz 240d\",\"honda civic 1500 gl\",\"subaru dl\",\"vokswagen rabbit\",\"datsun 280-zx\",\"mazda rx-7 gs\",\"triumph tr7 coupe\",\"honda accord\",\"plymouth reliant\",\"buick skylark\",\"dodge aries wagon (sw)\",\"chevrolet citation\",\"plymouth reliant\",\"toyota starlet\",\"plymouth champ\",\"honda civic 1300\",\"subaru\",\"datsun 210 mpg\",\"toyota tercel\",\"mazda glc 4\",\"plymouth horizon 4\",\"ford escort 4w\",\"ford escort 2h\",\"volkswagen jetta\",\"honda prelude\",\"toyota corolla\",\"datsun 200sx\",\"mazda 626\",\"peugeot 505s turbo diesel\",\"volvo diesel\",\"toyota cressida\",\"datsun 810 maxima\",\"buick century\",\"oldsmobile cutlass ls\",\"ford granada gl\",\"chrysler lebaron salon\",\"chevrolet cavalier\",\"chevrolet cavalier wagon\",\"chevrolet cavalier 2-door\",\"pontiac j2000 se hatchback\",\"dodge aries se\",\"pontiac phoenix\",\"ford fairmont futura\",\"volkswagen rabbit l\",\"mazda glc custom l\",\"mazda glc custom\",\"plymouth horizon miser\",\"mercury lynx l\",\"nissan stanza xe\",\"honda accord\",\"toyota corolla\",\"honda civic\",\"honda civic (auto)\",\"datsun 310 gx\",\"buick century limited\",\"oldsmobile cutlass ciera (diesel)\",\"chrysler lebaron medallion\",\"ford granada l\",\"toyota celica gt\",\"dodge charger 2.2\",\"chevrolet camaro\",\"ford mustang gl\",\"vw pickup\",\"dodge rampage\",\"ford ranger\",\"chevy s-10\"],\"origin\":[1,1,1,1,1,1,1,1,1,1,1,1,1,1,3,1,1,1,3,2,2,2,2,2,1,1,1,1,1,3,1,3,1,1,1,1,1,1,1,1,1,1,1,1,1,1,1,1,1,2,2,2,3,3,2,1,3,1,2,1,1,1,1,1,1,1,1,1,1,1,3,1,1,1,1,2,2,2,2,1,3,3,1,3,1,1,1,1,1,1,1,1,1,1,1,1,1,1,1,1,1,2,1,1,1,1,1,3,1,3,3,1,1,2,1,1,2,2,2,2,1,2,3,1,1,1,1,3,1,3,1,1,1,1,1,1,1,1,1,2,2,2,3,3,1,2,2,3,3,2,1,1,1,1,1,1,1,1,1,1,1,1,1,1,1,3,1,1,1,3,2,3,1,2,1,2,2,2,2,3,2,2,1,1,2,1,1,1,1,1,1,1,1,1,1,2,3,1,1,1,1,2,3,3,1,2,1,2,3,2,1,1,1,1,3,1,2,1,3,1,1,1,1,1,1,1,1,1,1,1,1,2,1,3,1,1,1,3,2,3,2,3,2,1,3,3,3,1,1,1,1,1,1,1,1,1,1,1,1,1,1,1,1,1,1,3,3,1,3,1,1,3,2,2,2,2,2,3,1,1,1,1,1,1,1,1,1,1,1,1,1,2,3,1,1,2,1,2,1,1,1,3,2,1,1,1,1,2,3,1,3,1,1,1,1,2,3,3,3,3,3,1,3,2,2,2,2,3,3,2,3,3,2,3,1,1,1,1,1,3,1,3,3,3,3,3,1,1,1,2,3,3,3,3,2,2,3,3,1,1,1,1,1,1,1,1,1,1,1,2,3,3,1,1,3,3,3,3,3,3,1,1,1,1,3,1,1,1,2,1,1,1],\"weight\":[3504,3693,3436,3433,3449,4341,4354,4312,4425,3850,3563,3609,3761,3086,2372,2833,2774,2587,2130,1835,2672,2430,2375,2234,2648,4615,4376,4382,4732,2130,2264,2228,2634,3439,3329,3302,3288,4209,4464,4154,4096,4955,4746,5140,2962,2408,3282,3139,2220,2123,2074,2065,1773,1613,1834,1955,2278,2126,2254,2408,2226,4274,4385,4135,4129,3672,4633,4502,4456,4422,2330,3892,4098,4294,4077,2933,2511,2979,2189,2395,2288,2506,2164,2100,4100,3672,3988,4042,3777,4952,4464,4363,4237,4735,4951,3821,3121,3278,2945,3021,2904,1950,4997,4906,4654,4499,2789,2279,2401,2379,2124,2310,2472,2265,4082,4278,1867,2158,2582,2868,3399,2660,2807,3664,3102,2901,3336,1950,2451,1836,2542,3781,3632,3613,4141,4699,4457,4638,4257,2219,1963,2300,1649,2003,2125,2108,2246,2489,2391,2000,3264,3459,3432,3158,4668,4440,4498,4657,3907,3897,3730,3785,3039,3221,3169,2171,2639,2914,2592,2702,2223,2545,2984,1937,3211,2694,2957,2945,2671,1795,2464,2220,2572,2255,2202,4215,4190,3962,4215,3233,3353,3012,3085,2035,2164,1937,1795,3651,3574,3645,3193,1825,1990,2155,2565,3150,3940,3270,2930,3820,4380,4055,3870,3755,2045,2155,1825,2300,1945,3880,4060,4140,4295,3520,3425,3630,3525,4220,4165,4325,4335,1940,2740,2265,2755,2051,2075,1985,2190,2815,2600,2720,1985,1800,1985,2070,1800,3365,3735,3570,3535,3155,2965,2720,3430,3210,3380,3070,3620,3410,3425,3445,3205,4080,2155,2560,2300,2230,2515,2745,2855,2405,2830,3140,2795,3410,1990,2135,3245,2990,2890,3265,3360,3840,3725,3955,3830,4360,4054,3605,3940,1925,1975,1915,2670,3530,3900,3190,3420,2200,2150,2020,2130,2670,2595,2700,2556,2144,1968,2120,2019,2678,2870,3003,3381,2188,2711,2542,2434,2265,2110,2800,2110,2085,2335,2950,3250,1850,2145,1845,2910,2420,2500,2290,2490,2635,2620,2725,2385,1755,1875,1760,2065,1975,2050,1985,2215,2045,2380,2190,2210,2350,2615,2635,3230,3160,2900,2930,3415,3725,3060,3465,2605,2640,2395,2575,2525,2735,2865,1980,2025,1970,2125,2125,2160,2205,2245,1965,1965,1995,2945,3015,2585,2835,2665,2370,2950,2790,2130,2295,2625,2720],\"yr\":[70,70,70,70,70,70,70,70,70,70,70,70,70,70,70,70,70,70,70,70,70,70,70,70,70,70,70,70,70,71,71,71,71,71,71,71,71,71,71,71,71,71,71,71,71,71,71,71,71,71,71,71,71,71,71,71,72,72,72,72,72,72,72,72,72,72,72,72,72,72,72,72,72,72,72,72,72,72,72,72,72,72,72,72,73,73,73,73,73,73,73,73,73,73,73,73,73,73,73,73,73,73,73,73,73,73,73,73,73,73,73,73,73,73,73,73,73,73,73,73,73,73,73,73,74,74,74,74,74,74,74,74,74,74,74,74,74,74,74,74,74,74,74,74,74,74,74,74,74,74,75,75,75,75,75,75,75,75,75,75,75,75,75,75,75,75,75,75,75,75,75,75,75,75,75,75,75,75,75,75,76,76,76,76,76,76,76,76,76,76,76,76,76,76,76,76,76,76,76,76,76,76,76,76,76,76,76,76,76,76,76,76,76,76,77,77,77,77,77,77,77,77,77,77,77,77,77,77,77,77,77,77,77,77,77,77,77,77,77,77,77,77,78,78,78,78,78,78,78,78,78,78,78,78,78,78,78,78,78,78,78,78,78,78,78,78,78,78,78,78,78,78,78,78,78,78,78,78,79,79,79,79,79,79,79,79,79,79,79,79,79,79,79,79,79,79,79,79,79,79,79,79,79,79,79,79,79,80,80,80,80,80,80,80,80,80,80,80,80,80,80,80,80,80,80,80,80,80,80,80,80,80,80,80,81,81,81,81,81,81,81,81,81,81,81,81,81,81,81,81,81,81,81,81,81,81,81,81,81,81,81,81,82,82,82,82,82,82,82,82,82,82,82,82,82,82,82,82,82,82,82,82,82,82,82,82,82,82,82,82,82,82]},\"selected\":{\"id\":\"acffe74c-5480-44c2-b919-a47d2fdc95ea\",\"type\":\"Selection\"},\"selection_policy\":{\"id\":\"ba57dd03-f7b6-4d21-8374-e940ce4e1932\",\"type\":\"UnionRenderers\"}},\"id\":\"18d0e618-9e25-4fde-878c-c4215431b60e\",\"type\":\"ColumnDataSource\"},{\"attributes\":{},\"id\":\"9760e642-f525-41cd-8afa-ed3213b79b98\",\"type\":\"BasicTickFormatter\"},{\"attributes\":{\"below\":[{\"id\":\"96621900-9eea-4c89-b46b-7f6b50d14b3a\",\"type\":\"LinearAxis\"}],\"left\":[{\"id\":\"172cce2d-a833-478b-85f7-6adb34caeafb\",\"type\":\"LinearAxis\"}],\"plot_height\":300,\"plot_width\":300,\"renderers\":[{\"id\":\"96621900-9eea-4c89-b46b-7f6b50d14b3a\",\"type\":\"LinearAxis\"},{\"id\":\"e8fe8f80-94d8-4fa6-a7a0-1c84a1b18a23\",\"type\":\"Grid\"},{\"id\":\"172cce2d-a833-478b-85f7-6adb34caeafb\",\"type\":\"LinearAxis\"},{\"id\":\"c3cd11b4-5909-42d0-a85d-1e4b5b48cf64\",\"type\":\"Grid\"},{\"id\":\"6fa91ef1-c1e4-4a18-a876-06be5c51e8e8\",\"type\":\"BoxAnnotation\"},{\"id\":\"ac1d4307-1516-4880-b4b8-8b0c6b57370d\",\"type\":\"GlyphRenderer\"}],\"title\":{\"id\":\"e24d19c9-5cbd-4727-9602-7351c481bdb9\",\"type\":\"Title\"},\"toolbar\":{\"id\":\"a5dfe53c-5148-491a-9774-2bf5273a3771\",\"type\":\"Toolbar\"},\"toolbar_location\":null,\"x_range\":{\"id\":\"38caf3e9-836a-4999-9e6f-97b6f0392152\",\"type\":\"DataRange1d\"},\"x_scale\":{\"id\":\"779e29cb-5488-4595-a2c2-44f06c92405d\",\"type\":\"LinearScale\"},\"y_range\":{\"id\":\"1b2d2069-3e77-4ded-83a1-b2877cf7fb40\",\"type\":\"DataRange1d\"},\"y_scale\":{\"id\":\"6732989c-8d72-4aa6-b862-bff8f67e21c4\",\"type\":\"LinearScale\"}},\"id\":\"6af2d626-7579-456a-bfed-76ac60cde0b1\",\"subtype\":\"Figure\",\"type\":\"Plot\"},{\"attributes\":{\"source\":{\"id\":\"18d0e618-9e25-4fde-878c-c4215431b60e\",\"type\":\"ColumnDataSource\"}},\"id\":\"95b880f7-0c4f-4bd2-abc4-0c2493ff77bb\",\"type\":\"CDSView\"},{\"attributes\":{\"plot\":null,\"text\":\"MPG by Year\"},\"id\":\"e24d19c9-5cbd-4727-9602-7351c481bdb9\",\"type\":\"Title\"}],\"root_ids\":[\"47a94930-9536-4460-8531-0274bc4e46a3\"]},\"title\":\"Bokeh Application\",\"version\":\"0.12.16\"}};\n",
       "  var render_items = [{\"docid\":\"dec23fd8-2269-40d9-a30d-4903099087a7\",\"elementid\":\"8ac90e27-7aab-4571-a6cd-5ad408fba45a\",\"modelid\":\"47a94930-9536-4460-8531-0274bc4e46a3\"}];\n",
       "  root.Bokeh.embed.embed_items_notebook(docs_json, render_items);\n",
       "\n",
       "  }\n",
       "  if (root.Bokeh !== undefined) {\n",
       "    embed_document(root);\n",
       "  } else {\n",
       "    var attempts = 0;\n",
       "    var timer = setInterval(function(root) {\n",
       "      if (root.Bokeh !== undefined) {\n",
       "        embed_document(root);\n",
       "        clearInterval(timer);\n",
       "      }\n",
       "      attempts++;\n",
       "      if (attempts > 100) {\n",
       "        console.log(\"Bokeh: ERROR: Unable to run BokehJS code because BokehJS library is missing\")\n",
       "        clearInterval(timer);\n",
       "      }\n",
       "    }, 10, root)\n",
       "  }\n",
       "})(window);"
      ],
      "application/vnd.bokehjs_exec.v0+json": ""
     },
     "metadata": {
      "application/vnd.bokehjs_exec.v0+json": {
       "id": "47a94930-9536-4460-8531-0274bc4e46a3"
      }
     },
     "output_type": "display_data"
    }
   ],
   "source": [
    "from bokeh.models import ColumnDataSource\n",
    "from bokeh.layouts import gridplot\n",
    "\n",
    "source = ColumnDataSource(autompg)\n",
    "options = dict(plot_width = 300, plot_height = 300)\n",
    "\n",
    "#at each step instantiate a new figure object\n",
    "p1 = figure(title=\"MPG by Year\", **options )\n",
    "p1.circle('yr', 'mpg', color = 'blue', source = source)\n",
    "\n",
    "p2 = figure(title=\"HP vs. Displacement\", **options)\n",
    "p2.circle('hp', 'displ', color = 'green', source = source)\n",
    "\n",
    "p3 = figure(title = \"MPG vs. Displacement\", **options)\n",
    "p3.circle('mpg', 'displ', size = 'cyl', line_color = 'red', fill_color = None, source = source)\n",
    "\n",
    "p = gridplot([[p1, p2, p3]])\n",
    "\n",
    "show(p)"
   ]
  },
  {
   "cell_type": "markdown",
   "metadata": {},
   "source": [
    "### Outputting HTML\n",
    "\n",
    "If we want to save our plot as a standalone `.html` file, we can use the `output_file` method and direct the output to an html file of our choice."
   ]
  },
  {
   "cell_type": "code",
   "execution_count": 14,
   "metadata": {
    "scrolled": true
   },
   "outputs": [
    {
     "data": {
      "text/html": [
       "\n",
       "<div class=\"bk-root\">\n",
       "    <div class=\"bk-plotdiv\" id=\"40a15f9b-d141-4047-aa42-2b61351bb9b0\"></div>\n",
       "</div>"
      ]
     },
     "metadata": {},
     "output_type": "display_data"
    },
    {
     "data": {
      "application/javascript": [
       "(function(root) {\n",
       "  function embed_document(root) {\n",
       "    \n",
       "  var docs_json = {\"c1a437bb-47d2-4522-9afb-048be61a11f6\":{\"roots\":{\"references\":[{\"attributes\":{\"fill_alpha\":{\"value\":0.1},\"fill_color\":{\"value\":\"#1f77b4\"},\"line_alpha\":{\"value\":0.1},\"line_color\":{\"value\":\"#1f77b4\"},\"size\":{\"units\":\"screen\",\"value\":10},\"x\":{\"field\":\"x\"},\"y\":{\"field\":\"y\"}},\"id\":\"76ebc370-217e-4f15-95d0-ace82687fbf1\",\"type\":\"Circle\"},{\"attributes\":{\"plot\":{\"id\":\"80aa9633-ae70-4f3e-86f0-87e7dbcbc2cd\",\"subtype\":\"Figure\",\"type\":\"Plot\"},\"ticker\":{\"id\":\"d78065c8-525e-4bce-a33e-93f2f94258da\",\"type\":\"BasicTicker\"}},\"id\":\"ea2c9479-188e-4f9f-96ed-99e3674b39b7\",\"type\":\"Grid\"},{\"attributes\":{\"formatter\":{\"id\":\"3484f6c1-8fb0-49df-89c9-10047f8f60da\",\"type\":\"BasicTickFormatter\"},\"plot\":{\"id\":\"80aa9633-ae70-4f3e-86f0-87e7dbcbc2cd\",\"subtype\":\"Figure\",\"type\":\"Plot\"},\"ticker\":{\"id\":\"d78065c8-525e-4bce-a33e-93f2f94258da\",\"type\":\"BasicTicker\"}},\"id\":\"709848f9-cea3-4946-802c-39ca7348f737\",\"type\":\"LinearAxis\"},{\"attributes\":{\"label\":{\"value\":\"American\"},\"renderers\":[{\"id\":\"883b13e0-d562-4660-b7e7-c562a1c5c46b\",\"type\":\"GlyphRenderer\"}]},\"id\":\"a83a49a1-9cc2-4c63-9f0c-765df9c1c047\",\"type\":\"LegendItem\"},{\"attributes\":{},\"id\":\"d78065c8-525e-4bce-a33e-93f2f94258da\",\"type\":\"BasicTicker\"},{\"attributes\":{\"formatter\":{\"id\":\"45720937-455a-45b6-a713-3eb53ff79e48\",\"type\":\"BasicTickFormatter\"},\"plot\":{\"id\":\"80aa9633-ae70-4f3e-86f0-87e7dbcbc2cd\",\"subtype\":\"Figure\",\"type\":\"Plot\"},\"ticker\":{\"id\":\"623ff5f0-ec42-40c9-b4db-3b4826b0936f\",\"type\":\"BasicTicker\"}},\"id\":\"0a0e9f20-ab44-4909-9ec7-a93fe13b1071\",\"type\":\"LinearAxis\"},{\"attributes\":{},\"id\":\"45238c5a-1893-46bf-9a6e-473753d06c17\",\"type\":\"Selection\"},{\"attributes\":{},\"id\":\"623ff5f0-ec42-40c9-b4db-3b4826b0936f\",\"type\":\"BasicTicker\"},{\"attributes\":{\"source\":{\"id\":\"d9feb2d1-16db-4064-a99f-d8ff76f251f4\",\"type\":\"ColumnDataSource\"}},\"id\":\"e286df90-f2dc-4551-b808-802fd59b3ed1\",\"type\":\"CDSView\"},{\"attributes\":{\"dimension\":1,\"plot\":{\"id\":\"80aa9633-ae70-4f3e-86f0-87e7dbcbc2cd\",\"subtype\":\"Figure\",\"type\":\"Plot\"},\"ticker\":{\"id\":\"623ff5f0-ec42-40c9-b4db-3b4826b0936f\",\"type\":\"BasicTicker\"}},\"id\":\"ef03a53b-a00e-4027-ba13-6a09c448ecf6\",\"type\":\"Grid\"},{\"attributes\":{},\"id\":\"5238e934-85f2-4995-8454-ddb2a4abc5cb\",\"type\":\"UnionRenderers\"},{\"attributes\":{\"bottom\":{\"field\":\"bottom\"},\"fill_alpha\":{\"value\":0.2},\"fill_color\":{\"value\":\"#1f77b4\"},\"line_color\":{\"value\":null},\"top\":{\"field\":\"top\"},\"width\":{\"value\":0.8},\"x\":{\"field\":\"x\"}},\"id\":\"b697f287-6695-4f37-a9ec-3049ea54d827\",\"type\":\"VBar\"},{\"attributes\":{\"callback\":null,\"data\":{\"bottom\":{\"__ndarray__\":\"gvFgx2qzKECcKci59t4sQJZdRzm5jipAzvVtn6zMKECki7kXNjswQIpnc6D2pi5ApAV4qVNeL0DtFQi6+rIwQBxLQL6+KTFAWBwW2YNMMkBnDzEy+Oo6QAq856zmjDhAfzfsSXnEOkA=\",\"dtype\":\"float64\",\"shape\":[13]},\"top\":{\"__ndarray__\":\"55jlF2UHN0DAzlQxaMk7QBEIyj5aJjhATTh849zMNUD6TNCFok49QMPUTjgNNTlA1KLp0Ht2O0AT6vdFBQ0+QNr+XjaL9T5AVt48aCfjP0AojYptQ1hEQPSsO6IX6UFAQOQJW8OdQkA=\",\"dtype\":\"float64\",\"shape\":[13]},\"x\":[70,71,72,73,74,75,76,77,78,79,80,81,82]},\"selected\":{\"id\":\"5cbaeb17-8d02-4ef4-a2dc-7151f87bfa9d\",\"type\":\"Selection\"},\"selection_policy\":{\"id\":\"224e68e6-6f5c-497b-adf6-7ad0cc239275\",\"type\":\"UnionRenderers\"}},\"id\":\"7d2ac07d-d10b-4548-9d1b-3fdedb4ab8fa\",\"type\":\"ColumnDataSource\"},{\"attributes\":{\"bottom_units\":\"screen\",\"fill_alpha\":{\"value\":0.5},\"fill_color\":{\"value\":\"lightgrey\"},\"left_units\":\"screen\",\"level\":\"overlay\",\"line_alpha\":{\"value\":1.0},\"line_color\":{\"value\":\"black\"},\"line_dash\":[4,4],\"line_width\":{\"value\":2},\"plot\":null,\"render_mode\":\"css\",\"right_units\":\"screen\",\"top_units\":\"screen\"},\"id\":\"187e0a6f-4c40-41b4-a5c7-6701910778b4\",\"type\":\"BoxAnnotation\"},{\"attributes\":{},\"id\":\"81d57633-ad7c-43ea-9633-20d6576d31b6\",\"type\":\"PanTool\"},{\"attributes\":{\"items\":[{\"id\":\"e1042a54-c704-4b17-b69a-85c1890e6539\",\"type\":\"LegendItem\"},{\"id\":\"6672e159-c991-4573-8240-7adda5d460dd\",\"type\":\"LegendItem\"},{\"id\":\"a83a49a1-9cc2-4c63-9f0c-765df9c1c047\",\"type\":\"LegendItem\"}],\"plot\":{\"id\":\"80aa9633-ae70-4f3e-86f0-87e7dbcbc2cd\",\"subtype\":\"Figure\",\"type\":\"Plot\"}},\"id\":\"5aff524a-fb10-4c27-a879-c5409be75a49\",\"type\":\"Legend\"},{\"attributes\":{},\"id\":\"50489aca-c34e-4de7-bf8c-7130e5091472\",\"type\":\"WheelZoomTool\"},{\"attributes\":{\"overlay\":{\"id\":\"187e0a6f-4c40-41b4-a5c7-6701910778b4\",\"type\":\"BoxAnnotation\"}},\"id\":\"895109a2-969e-4a59-9bdb-33a4461a6a9a\",\"type\":\"BoxZoomTool\"},{\"attributes\":{},\"id\":\"ff3bca35-fe17-4964-b58b-5fe5040eda71\",\"type\":\"SaveTool\"},{\"attributes\":{},\"id\":\"b4328e9f-11a6-4103-be03-b7cbc1d555dd\",\"type\":\"ResetTool\"},{\"attributes\":{},\"id\":\"3e88ce1a-0ade-4289-9291-2a5d2fdb4b1f\",\"type\":\"HelpTool\"},{\"attributes\":{},\"id\":\"3484f6c1-8fb0-49df-89c9-10047f8f60da\",\"type\":\"BasicTickFormatter\"},{\"attributes\":{\"bottom\":{\"field\":\"bottom\"},\"fill_alpha\":{\"value\":0.1},\"fill_color\":{\"value\":\"#1f77b4\"},\"line_alpha\":{\"value\":0.1},\"line_color\":{\"value\":\"#1f77b4\"},\"top\":{\"field\":\"top\"},\"width\":{\"value\":0.8},\"x\":{\"field\":\"x\"}},\"id\":\"a41778fb-1c27-4fce-82ce-466b8e1a2d37\",\"type\":\"VBar\"},{\"attributes\":{\"data_source\":{\"id\":\"7d2ac07d-d10b-4548-9d1b-3fdedb4ab8fa\",\"type\":\"ColumnDataSource\"},\"glyph\":{\"id\":\"b697f287-6695-4f37-a9ec-3049ea54d827\",\"type\":\"VBar\"},\"hover_glyph\":null,\"muted_glyph\":null,\"nonselection_glyph\":{\"id\":\"a41778fb-1c27-4fce-82ce-466b8e1a2d37\",\"type\":\"VBar\"},\"selection_glyph\":null,\"view\":{\"id\":\"94b52dbf-9546-4e5c-8481-6a02294d587d\",\"type\":\"CDSView\"}},\"id\":\"a53f0474-2d65-4430-85ef-0a602197de6a\",\"type\":\"GlyphRenderer\"},{\"attributes\":{\"data_source\":{\"id\":\"d9feb2d1-16db-4064-a99f-d8ff76f251f4\",\"type\":\"ColumnDataSource\"},\"glyph\":{\"id\":\"93141e45-c514-4b01-b149-6b178f0d2fa2\",\"type\":\"Circle\"},\"hover_glyph\":null,\"muted_glyph\":null,\"nonselection_glyph\":{\"id\":\"76ebc370-217e-4f15-95d0-ace82687fbf1\",\"type\":\"Circle\"},\"selection_glyph\":null,\"view\":{\"id\":\"e286df90-f2dc-4551-b808-802fd59b3ed1\",\"type\":\"CDSView\"}},\"id\":\"3e562c30-28c0-484d-ba07-3ef1ee568169\",\"type\":\"GlyphRenderer\"},{\"attributes\":{\"fill_alpha\":{\"value\":0.5},\"fill_color\":{\"value\":\"red\"},\"line_alpha\":{\"value\":0.5},\"line_color\":{\"value\":\"red\"},\"size\":{\"units\":\"screen\",\"value\":10},\"x\":{\"field\":\"x\"},\"y\":{\"field\":\"y\"}},\"id\":\"93141e45-c514-4b01-b149-6b178f0d2fa2\",\"type\":\"Circle\"},{\"attributes\":{\"source\":{\"id\":\"7d2ac07d-d10b-4548-9d1b-3fdedb4ab8fa\",\"type\":\"ColumnDataSource\"}},\"id\":\"94b52dbf-9546-4e5c-8481-6a02294d587d\",\"type\":\"CDSView\"},{\"attributes\":{},\"id\":\"5cbaeb17-8d02-4ef4-a2dc-7151f87bfa9d\",\"type\":\"Selection\"},{\"attributes\":{\"label\":{\"value\":\"MPG 1 stddev\"},\"renderers\":[{\"id\":\"a53f0474-2d65-4430-85ef-0a602197de6a\",\"type\":\"GlyphRenderer\"}]},\"id\":\"e1042a54-c704-4b17-b69a-85c1890e6539\",\"type\":\"LegendItem\"},{\"attributes\":{\"callback\":null},\"id\":\"2ae46188-6ad4-4d80-ace7-f12890e814a1\",\"type\":\"DataRange1d\"},{\"attributes\":{},\"id\":\"224e68e6-6f5c-497b-adf6-7ad0cc239275\",\"type\":\"UnionRenderers\"},{\"attributes\":{\"below\":[{\"id\":\"709848f9-cea3-4946-802c-39ca7348f737\",\"type\":\"LinearAxis\"}],\"left\":[{\"id\":\"0a0e9f20-ab44-4909-9ec7-a93fe13b1071\",\"type\":\"LinearAxis\"}],\"renderers\":[{\"id\":\"709848f9-cea3-4946-802c-39ca7348f737\",\"type\":\"LinearAxis\"},{\"id\":\"ea2c9479-188e-4f9f-96ed-99e3674b39b7\",\"type\":\"Grid\"},{\"id\":\"0a0e9f20-ab44-4909-9ec7-a93fe13b1071\",\"type\":\"LinearAxis\"},{\"id\":\"ef03a53b-a00e-4027-ba13-6a09c448ecf6\",\"type\":\"Grid\"},{\"id\":\"187e0a6f-4c40-41b4-a5c7-6701910778b4\",\"type\":\"BoxAnnotation\"},{\"id\":\"5aff524a-fb10-4c27-a879-c5409be75a49\",\"type\":\"Legend\"},{\"id\":\"a53f0474-2d65-4430-85ef-0a602197de6a\",\"type\":\"GlyphRenderer\"},{\"id\":\"3e562c30-28c0-484d-ba07-3ef1ee568169\",\"type\":\"GlyphRenderer\"},{\"id\":\"883b13e0-d562-4660-b7e7-c562a1c5c46b\",\"type\":\"GlyphRenderer\"}],\"title\":{\"id\":\"17b8abb5-5824-4b79-9db7-96ef757652fe\",\"type\":\"Title\"},\"toolbar\":{\"id\":\"683f3dc8-6175-4e00-9d0b-de3001018650\",\"type\":\"Toolbar\"},\"x_range\":{\"id\":\"2ae46188-6ad4-4d80-ace7-f12890e814a1\",\"type\":\"DataRange1d\"},\"x_scale\":{\"id\":\"d14cc18c-6b28-4b9b-9acf-ceb9b4ff63b0\",\"type\":\"LinearScale\"},\"y_range\":{\"id\":\"ee9c0ff6-da91-4588-9e69-5f6782c31efb\",\"type\":\"DataRange1d\"},\"y_scale\":{\"id\":\"2897672a-2298-48c8-b45f-d55532679456\",\"type\":\"LinearScale\"}},\"id\":\"80aa9633-ae70-4f3e-86f0-87e7dbcbc2cd\",\"subtype\":\"Figure\",\"type\":\"Plot\"},{\"attributes\":{\"callback\":null,\"data\":{\"x\":[70,70,70,70,70,70,70,70,70,70,70,70,70,70,70,70,70,70,70,70,70,70,71,71,71,71,71,71,71,71,71,71,71,71,71,71,71,71,71,71,71,72,72,72,72,72,72,72,72,72,72,72,72,72,72,72,72,72,72,73,73,73,73,73,73,73,73,73,73,73,73,73,73,73,73,73,73,73,73,73,73,73,73,73,73,73,73,73,74,74,74,74,74,74,74,74,74,74,74,74,74,74,75,75,75,75,75,75,75,75,75,75,75,75,75,75,75,75,75,75,75,75,76,76,76,76,76,76,76,76,76,76,76,76,76,76,76,76,76,76,76,76,76,76,77,77,77,77,77,77,77,77,77,77,77,77,77,77,77,77,77,77,78,78,78,78,78,78,78,78,78,78,78,78,78,78,78,78,78,78,78,78,78,78,79,79,79,79,79,79,79,79,79,79,79,79,79,79,79,79,79,79,79,79,79,79,79,80,80,80,80,80,80,81,81,81,81,81,81,81,81,81,81,81,81,81,82,82,82,82,82,82,82,82,82,82,82,82,82,82,82,82,82,82,82],\"y\":{\"__ndarray__\":\"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\",\"dtype\":\"float64\",\"shape\":[245]}},\"selected\":{\"id\":\"45238c5a-1893-46bf-9a6e-473753d06c17\",\"type\":\"Selection\"},\"selection_policy\":{\"id\":\"5238e934-85f2-4995-8454-ddb2a4abc5cb\",\"type\":\"UnionRenderers\"}},\"id\":\"ce7dc8fb-e10a-4234-8c14-afd086cf0d57\",\"type\":\"ColumnDataSource\"},{\"attributes\":{\"label\":{\"value\":\"Japanese\"},\"renderers\":[{\"id\":\"3e562c30-28c0-484d-ba07-3ef1ee568169\",\"type\":\"GlyphRenderer\"}]},\"id\":\"6672e159-c991-4573-8240-7adda5d460dd\",\"type\":\"LegendItem\"},{\"attributes\":{\"fill_alpha\":{\"value\":0.1},\"fill_color\":{\"value\":\"#1f77b4\"},\"line_alpha\":{\"value\":0.1},\"line_color\":{\"value\":\"#1f77b4\"},\"size\":{\"units\":\"screen\",\"value\":10},\"x\":{\"field\":\"x\"},\"y\":{\"field\":\"y\"}},\"id\":\"3e8456d0-3884-4c4b-bb4a-9399a35df9a8\",\"type\":\"Triangle\"},{\"attributes\":{},\"id\":\"45720937-455a-45b6-a713-3eb53ff79e48\",\"type\":\"BasicTickFormatter\"},{\"attributes\":{},\"id\":\"43f1ceda-ed00-4ab3-b761-c2b3941c2746\",\"type\":\"Selection\"},{\"attributes\":{},\"id\":\"d14cc18c-6b28-4b9b-9acf-ceb9b4ff63b0\",\"type\":\"LinearScale\"},{\"attributes\":{},\"id\":\"2897672a-2298-48c8-b45f-d55532679456\",\"type\":\"LinearScale\"},{\"attributes\":{\"fill_alpha\":{\"value\":0.3},\"fill_color\":{\"value\":\"blue\"},\"line_alpha\":{\"value\":0.3},\"line_color\":{\"value\":\"blue\"},\"size\":{\"units\":\"screen\",\"value\":10},\"x\":{\"field\":\"x\"},\"y\":{\"field\":\"y\"}},\"id\":\"c9bfadde-4c75-4315-a164-66775089b5e8\",\"type\":\"Triangle\"},{\"attributes\":{\"active_drag\":\"auto\",\"active_inspect\":\"auto\",\"active_scroll\":\"auto\",\"active_tap\":\"auto\",\"tools\":[{\"id\":\"81d57633-ad7c-43ea-9633-20d6576d31b6\",\"type\":\"PanTool\"},{\"id\":\"50489aca-c34e-4de7-bf8c-7130e5091472\",\"type\":\"WheelZoomTool\"},{\"id\":\"895109a2-969e-4a59-9bdb-33a4461a6a9a\",\"type\":\"BoxZoomTool\"},{\"id\":\"ff3bca35-fe17-4964-b58b-5fe5040eda71\",\"type\":\"SaveTool\"},{\"id\":\"b4328e9f-11a6-4103-be03-b7cbc1d555dd\",\"type\":\"ResetTool\"},{\"id\":\"3e88ce1a-0ade-4289-9291-2a5d2fdb4b1f\",\"type\":\"HelpTool\"}]},\"id\":\"683f3dc8-6175-4e00-9d0b-de3001018650\",\"type\":\"Toolbar\"},{\"attributes\":{\"callback\":null,\"data\":{\"x\":[70,70,71,71,71,71,72,72,72,72,72,73,73,73,73,74,74,74,74,74,74,75,75,75,75,76,76,76,76,77,77,77,77,77,77,78,78,78,78,78,78,78,78,79,79,80,80,80,80,80,80,80,80,80,80,80,80,80,81,81,81,81,81,81,81,81,81,81,81,81,82,82,82,82,82,82,82,82,82],\"y\":{\"__ndarray__\":\"AAAAAAAAOEAAAAAAAAA7QAAAAAAAADtAAAAAAAAAOUAAAAAAAAA/QAAAAAAAgEFAAAAAAAAAOEAAAAAAAAAzQAAAAAAAADxAAAAAAAAAN0AAAAAAAAA7QAAAAAAAADRAAAAAAAAANkAAAAAAAAAyQAAAAAAAADRAAAAAAAAAP0AAAAAAAABAQAAAAAAAAD9AAAAAAAAAQEAAAAAAAAA4QAAAAAAAADpAAAAAAAAAPUAAAAAAAAA4QAAAAAAAADhAAAAAAACAQEAAAAAAAIBAQAAAAAAAAEBAAAAAAAAAPEAAAAAAAAAzQAAAAAAAgD9AAAAAAADAQEAAAAAAAAA6QAAAAAAAAD5AAAAAAAAANkAAAAAAAIA1QGZmZmZmZkBAMzMzMzOzQ0DNzMzMzAxCQAAAAAAAgDtAMzMzMzMzO0CamZmZmRk1QGZmZmZm5jdAAAAAAACAPUDNzMzMzAxBQM3MzMzMzD9AzczMzMwMQ0CamZmZmZlCQM3MzMzMzD1AzczMzMxMP0AAAAAAAIBCQJqZmZmZGUBAzczMzMxMR0BmZmZmZmZEQM3MzMzMTEZAZmZmZmbmQECamZmZmVlAQDMzMzMzszdAMzMzMzMzQEDNzMzMzIxDQM3MzMzMjEFAZmZmZmYmQEAAAAAAAIBCQJqZmZmZ2UJAzczMzMwMQUCamZmZmdlAQDMzMzMzM0BAMzMzMzNzQECamZmZmZk/QGZmZmZmZjlAMzMzMzMzOEAAAAAAAIBCQAAAAAAAAD9AAAAAAAAAQkAAAAAAAABCQAAAAAAAAEFAAAAAAAAAQ0AAAAAAAABAQAAAAAAAAENAAAAAAAAAQEA=\",\"dtype\":\"float64\",\"shape\":[79]}},\"selected\":{\"id\":\"43f1ceda-ed00-4ab3-b761-c2b3941c2746\",\"type\":\"Selection\"},\"selection_policy\":{\"id\":\"fad84cf1-18b4-4886-84f6-a64e50e236b6\",\"type\":\"UnionRenderers\"}},\"id\":\"d9feb2d1-16db-4064-a99f-d8ff76f251f4\",\"type\":\"ColumnDataSource\"},{\"attributes\":{},\"id\":\"fad84cf1-18b4-4886-84f6-a64e50e236b6\",\"type\":\"UnionRenderers\"},{\"attributes\":{\"callback\":null},\"id\":\"ee9c0ff6-da91-4588-9e69-5f6782c31efb\",\"type\":\"DataRange1d\"},{\"attributes\":{\"source\":{\"id\":\"ce7dc8fb-e10a-4234-8c14-afd086cf0d57\",\"type\":\"ColumnDataSource\"}},\"id\":\"049ebcfc-6b7c-475f-963f-15b7a2ce3e0d\",\"type\":\"CDSView\"},{\"attributes\":{\"plot\":null,\"text\":\"MPG by Year (Japan and US)\"},\"id\":\"17b8abb5-5824-4b79-9db7-96ef757652fe\",\"type\":\"Title\"},{\"attributes\":{\"data_source\":{\"id\":\"ce7dc8fb-e10a-4234-8c14-afd086cf0d57\",\"type\":\"ColumnDataSource\"},\"glyph\":{\"id\":\"c9bfadde-4c75-4315-a164-66775089b5e8\",\"type\":\"Triangle\"},\"hover_glyph\":null,\"muted_glyph\":null,\"nonselection_glyph\":{\"id\":\"3e8456d0-3884-4c4b-bb4a-9399a35df9a8\",\"type\":\"Triangle\"},\"selection_glyph\":null,\"view\":{\"id\":\"049ebcfc-6b7c-475f-963f-15b7a2ce3e0d\",\"type\":\"CDSView\"}},\"id\":\"883b13e0-d562-4660-b7e7-c562a1c5c46b\",\"type\":\"GlyphRenderer\"}],\"root_ids\":[\"80aa9633-ae70-4f3e-86f0-87e7dbcbc2cd\"]},\"title\":\"Bokeh Application\",\"version\":\"0.12.16\"}};\n",
       "  var render_items = [{\"docid\":\"c1a437bb-47d2-4522-9afb-048be61a11f6\",\"elementid\":\"40a15f9b-d141-4047-aa42-2b61351bb9b0\",\"modelid\":\"80aa9633-ae70-4f3e-86f0-87e7dbcbc2cd\"}];\n",
       "  root.Bokeh.embed.embed_items_notebook(docs_json, render_items);\n",
       "\n",
       "  }\n",
       "  if (root.Bokeh !== undefined) {\n",
       "    embed_document(root);\n",
       "  } else {\n",
       "    var attempts = 0;\n",
       "    var timer = setInterval(function(root) {\n",
       "      if (root.Bokeh !== undefined) {\n",
       "        embed_document(root);\n",
       "        clearInterval(timer);\n",
       "      }\n",
       "      attempts++;\n",
       "      if (attempts > 100) {\n",
       "        console.log(\"Bokeh: ERROR: Unable to run BokehJS code because BokehJS library is missing\")\n",
       "        clearInterval(timer);\n",
       "      }\n",
       "    }, 10, root)\n",
       "  }\n",
       "})(window);"
      ],
      "application/vnd.bokehjs_exec.v0+json": ""
     },
     "metadata": {
      "application/vnd.bokehjs_exec.v0+json": {
       "id": "80aa9633-ae70-4f3e-86f0-87e7dbcbc2cd"
      }
     },
     "output_type": "display_data"
    }
   ],
   "source": [
    "from bokeh.plotting import output_file\n",
    "\n",
    "output_file('barplot.html')\n",
    "#this will output a barplot\n",
    "#now you have a html file for the barplot\n",
    "\n",
    "p = figure(title = \"MPG by Year (Japan and US)\")\n",
    "p.vbar(x = years, bottom = avg-std, top = avg+std, width = 0.8,\n",
    "      fill_alpha = 0.2, line_color = None, legend = \"MPG 1 stddev\")\n",
    "\n",
    "p.circle(x=japanese['yr'], y=japanese['mpg'], size = 10, alpha = 0.5,\n",
    "        color = 'red', legend = 'Japanese')\n",
    "\n",
    "p.triangle(x = american['yr'], y = american['mpg'], size = 10, alpha = 0.3,\n",
    "          color = 'blue', legend = 'American')\n",
    "\n",
    "show(p)"
   ]
  },
  {
   "cell_type": "markdown",
   "metadata": {},
   "source": [
    "### Serving Application\n",
    "\n",
    "Finally, we can use the bokeh server to serve bokeh plots as applications.  For example, we have a weather application in the `weather` directory.  "
   ]
  },
  {
   "cell_type": "code",
   "execution_count": 13,
   "metadata": {},
   "outputs": [
    {
     "name": "stdout",
     "output_type": "stream",
     "text": [
      "Process is terminated.\n"
     ]
    }
   ],
   "source": [
    "%%bash\n",
    "bokeh serve --show weather/"
   ]
  },
  {
   "cell_type": "code",
   "execution_count": null,
   "metadata": {},
   "outputs": [],
   "source": []
  }
 ],
 "metadata": {
  "kernelspec": {
   "display_name": "Python 3",
   "language": "python",
   "name": "python3"
  },
  "language_info": {
   "codemirror_mode": {
    "name": "ipython",
    "version": 3
   },
   "file_extension": ".py",
   "mimetype": "text/x-python",
   "name": "python",
   "nbconvert_exporter": "python",
   "pygments_lexer": "ipython3",
   "version": "3.6.5"
  }
 },
 "nbformat": 4,
 "nbformat_minor": 2
}
